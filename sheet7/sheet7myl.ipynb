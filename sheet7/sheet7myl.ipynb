{
 "cells": [
  {
   "cell_type": "markdown",
   "id": "e099f114-f035-4627-9d14-7c01f774fec9",
   "metadata": {},
   "source": [
    "# Exercise 7.1"
   ]
  },
  {
   "cell_type": "code",
   "execution_count": 46,
   "id": "fadac70e-d8af-40db-98f1-1e6cab1272a7",
   "metadata": {},
   "outputs": [],
   "source": [
    "# Cell 1 \n",
    "import numpy as np\n",
    "import itertools as it\n",
    "import matplotlib.pyplot as plt\n",
    "from scipy.optimize import curve_fit\n",
    "\n",
    "# for your convenience define \n",
    "mu_t = 0 \n",
    "mu_x = 1"
   ]
  },
  {
   "cell_type": "code",
   "execution_count": 47,
   "id": "b5296320-4179-4c3f-85b1-a99fd2d92521",
   "metadata": {},
   "outputs": [],
   "source": [
    "def g_plaquette(config, mu, nu):\n",
    "    # Exercise 7.1.a)\n",
    "    # =============================================================================================================\n",
    "    Ux = config[:, :, 0]\n",
    "    Uy = config[:, :, 1]\n",
    "    Ux_dag = np.conj(Ux)\n",
    "    Uy_dag = np.conj(Uy)\n",
    "\n",
    "    if mu == mu_t and nu == mu_t:\n",
    "        plaq = Ux * np.roll(Uy, shift=1, axis=1) * Ux_dag * np.roll(Uy_dag, shift=-1, axis=1)\n",
    "    elif mu == mu_t and nu == mu_x:\n",
    "        plaq = Ux * Uy * Ux_dag * np.roll(Uy_dag, shift=-1, axis=0)\n",
    "    elif mu == mu_x and nu == mu_x:\n",
    "        plaq = Ux * Ux * Ux_dag * Ux_dag\n",
    "    elif mu == mu_x and nu == mu_t:\n",
    "        plaq = Ux * np.roll(Uy_dag, shift=1, axis=0) * Ux_dag * Uy_dag\n",
    "\n",
    "    return plaq\n",
    "    # ============================================================================================================="
   ]
  },
  {
   "cell_type": "code",
   "execution_count": 48,
   "id": "1ccbf009-7daf-4b56-88e5-a5c46ebcf89c",
   "metadata": {},
   "outputs": [
    {
     "name": "stdout",
     "output_type": "stream",
     "text": [
      "(-0.7256929575908995-0.8194107910560643j)\n",
      "(4.26897695620136+0.16133598628064982j)\n",
      "(9-1.9321528774602385e-18j)\n",
      "(-2.2716250212000517+0.1702564184073857j)\n"
     ]
    }
   ],
   "source": [
    "np.random.seed(1234) # this call is local to this cell do not change the seed!!!\n",
    "# generate a random configuration for Nt = Nx = 3\n",
    "test_gauge = np.exp(1j*np.random.randn(3,3,2)) \n",
    "\n",
    "print(np.sum(g_plaquette(test_gauge,mu_t,mu_t))) # (-0.7256929575908995-0.8194107910560643j)\n",
    "print(np.sum(g_plaquette(test_gauge,mu_t,mu_x))) # (4.26897695620136+0.16133598628064982j)\n",
    "print(np.sum(g_plaquette(test_gauge,mu_x,mu_x))) # (9-1.9321528774602385e-18j)\n",
    "print(np.sum(g_plaquette(test_gauge,mu_x,mu_t))) # (-2.2716250212000517+0.1702564184073857j)"
   ]
  },
  {
   "cell_type": "code",
   "execution_count": 49,
   "id": "fffb36c4-eea5-4139-9a2f-6d8eea6a41ad",
   "metadata": {},
   "outputs": [],
   "source": [
    "def g_action(beta, config):\n",
    "    # Exercise 7.1.b)\n",
    "    # =============================================================================================================\n",
    "    plaq = 0\n",
    "    for mu, nu in it.combinations([mu_t, mu_x], 2):\n",
    "        plaq += np.sum(g_plaquette(config, mu, nu))\n",
    "    return -beta * plaq"
   ]
  },
  {
   "cell_type": "code",
   "execution_count": 50,
   "id": "4f24d480-fa94-4235-bbee-75171da65c06",
   "metadata": {},
   "outputs": [
    {
     "name": "stdout",
     "output_type": "stream",
     "text": [
      "(-4.26897695620136-0.16133598628064982j)\n"
     ]
    }
   ],
   "source": [
    "# Cell 5\n",
    "print(g_action(1,test_gauge)) # 16.4094190348658"
   ]
  },
  {
   "cell_type": "code",
   "execution_count": 51,
   "id": "dbeb5d82-b4e1-4e85-beec-cc99b1531aa7",
   "metadata": {},
   "outputs": [
    {
     "name": "stdout",
     "output_type": "stream",
     "text": [
      "11.6 µs ± 173 ns per loop (mean ± std. dev. of 7 runs, 100,000 loops each)\n"
     ]
    }
   ],
   "source": [
    "%%timeit\n",
    "# Cell 6\n",
    "g_action(1/3,test_gauge)"
   ]
  },
  {
   "cell_type": "markdown",
   "id": "f1d3cf61-a5bc-41f5-a5d5-9a05e650ac86",
   "metadata": {},
   "source": [
    "# Exercise 7.2"
   ]
  },
  {
   "cell_type": "markdown",
   "id": "60f8fb94-d8f0-45fb-8307-4218a0b6c5a3",
   "metadata": {},
   "source": [
    "The expectation value of $O[\\Phi]$ under the measure defined by $e^{-S[\\Phi]}$ is given by:\n",
    "$$\\langle{O}\\rangle_{\\Phi}=\\frac{\\int{O}[\\Phi]e^{-S[\\Phi]}{\\cal D}[\\Phi]}{\\int e^{-S[\\Phi]}{\\cal D}[\\Phi]}$$\n",
    "We extend the configuration space by introducing an auxiliary momentum variable $\\pi$ and define the Hamiltonian ${\\mathcal{H}}[\\Phi,\\pi]$ such that it reproduces the original distribution over $\\Phi$. This can be done with:\n",
    "$$\\mathcal{H}[\\Phi,\\pi]=S[\\Phi]+\\frac{1}{2}\\pi^{2}$$\n",
    "The corresponding distribution in the extended space is then:\n",
    "$$e^{-\\mathcal{H}[\\Phi,\\pi]}= e^{-S[\\Phi]}e^{-\\frac{1}{2}\\pi^{2}}$$\n",
    "If we marginalize over $\\pi$, we should recover the original distribution in terms of $S[\\Phi]$. Specifically:\n",
    "$$\\int e^{-\\mathcal{H}[\\Phi,\\pi]}D[\\pi]=\\int e^{-S[\\Phi]}e^{-\\frac{1}{2}\\pi^{2}}D[\\pi]\\propto e^{-S[\\Phi]}$$\n",
    "The proportionality constant does not depend on  $\\Phi$, as it comes solely from the normalization of the Gaussian integral over $\\pi$. Thus, integrating out $\\pi$ leaves the original measure $e^{-S[\\Phi]}{\\mathcal{D}}[\\Phi]$ intact.\n",
    "The expectation value $\\langle O\\rangle_{\\Phi,\\pi}$ in the extended space is defined as:\n",
    "$$\\langle{O}\\rangle_{\\Phi,\\pi}=\\frac{\\int{O}[\\Phi]e^{-\\cal H[\\Phi,\\pi]}{\\cal D}[\\Phi]{\\cal D}[\\pi]}{\\int e^{-\\cal H[\\Phi,\\pi]}{\\cal D}\\Phi]{\\cal D}[\\pi]}$$\n",
    "Since $O[\\Phi]$ does not depend on $\\pi$, the $\\pi$-integral acts only on the Gaussian factor and as shown previously, this integration rescales both the numerator and denominator by the same constant factor. So, the expectation value $\\langle O\\rangle_{\\Phi,\\pi}$ reduces to:\n",
    "$$\\langle{O}\\rangle_{\\Phi,\\pi}=\\frac{\\int{O}[\\Phi]e^{-S[\\Phi]}{\\mathcal D}[\\Phi]}{\\int e^{-S[\\Phi]}{\\mathcal D}[\\Phi]}=\\langle{O}\\rangle_{\\Phi}$$"
   ]
  },
  {
   "cell_type": "markdown",
   "id": "4d603331-3255-4d2d-8d5d-c46faba0abe8",
   "metadata": {},
   "source": [
    "# Exercise 7.3"
   ]
  },
  {
   "cell_type": "markdown",
   "id": "01e0c895-2c2d-4ef0-855e-b2aefa35f502",
   "metadata": {},
   "source": [
    "The Hamiltonian for lattice gauge theory is given by:\n",
    "$$\\mathcal{H}(U,\\pi)=\\frac{1}{2}\\sum_{{\\bf n},\\mu}\\mathrm{Tr}[\\pi_{\\mu}({\\bf n})^{2}]-\\beta\\sum_{{\\bf n},\\mu\\lt \\nu}\\mathrm{Re}[\\mathrm{Tr}(U_{\\mu\\nu}({\\bf n}))]$$\n",
    "For simplicity, we focus on the term in the Hamiltonian that depends on the link variable $U_{\\mu}(\\mathbf{n})$, which is:\n",
    "$$\\mathcal{H}_{U}=-\\beta\\sum_{{\\bf n},\\mu\\lt \\nu}{\\bf R e}[\\mathrm{Tr}(U_{\\mu\\nu}({\\bf n}))].$$\n",
    "The plaquette $U_{\\mu \\nu}(\\mathbf{n})$ involves $U_{\\mu}(\\mathbf{n})$ when $\\mu$ is part of the plaquette. Explicitly, $U_{\\mu \\nu}(\\mathbf{n})$ is given by:\n",
    "$$U_{\\mu\\nu}({\\bf n})=U_{\\mu}({\\bf n})U_{\\nu}({\\bf n}+\\hat{\\mu})U_{\\mu}^{\\dagger}({\\bf n}+\\hat{\\nu})U_{\\nu}^{\\dagger}({\\bf n})$$\n",
    "and the contribution of $U_{\\mu}(\\mathbf{n})$ to $\\mathcal{H}_{U}$ comes from the plaquettes containing $U_{\\mu}(\\mathbf{n})$.\n",
    "The force is defined as the derivative of the Hamiltonian with respect to $U_{\\mu}(\\mathbf{n})$:\n",
    "$$F_{\\mu}({\\bf n})=\\frac{\\partial\\mathcal{H}}{\\partial U_{\\mu}({\\bf n})}$$\n",
    "Focusing on the relevant part $\\mathcal{H}_{U}$, we write:\n",
    "$${\\frac{\\partial H_{U}}{\\partial U_{\\mu}({\\bf n})}}=\\beta\\sum_{\\nu\\neq\\mu}{\\frac{\\partial}{\\partial U_{\\mu}({\\bf n})}}\\mathrm{Re}[\\mathrm{Tr}(U_{\\mu\\nu}({\\bf n}))].$$\n",
    "Since $\\operatorname{Re}[\\operatorname{Tr}(A)]={\\textstyle{\\frac{1}{2}}}(\\operatorname{Tr}(A)+\\operatorname{Tr}(A^{\\dagger}))$ the derivative becomes:\n",
    "$$\\frac{\\partial}{\\partial U_{\\mu}({\\bf n})}\\mathrm{Re}[\\mathrm{Tr}(U_{\\mu\\nu}({\\bf n}))]=\\mathrm{Im}[\\frac{\\partial}{\\partial U_{\\mu}({\\bf n})}\\mathrm{Tr}(U_{\\mu\\nu}({\\bf n}))].$$\n",
    "Substitute the explicit form of $U_{\\mu \\nu}(\\mathbf{n})$:\n",
    "$$U_{\\mu\\nu}({\\bf n})=U_{\\mu}({\\bf n})\\cdot K_{\\mu}({\\bf n})$$\n",
    "where $K_{\\mu}({\\bf n})$ is the remaining part of the plaquette, given by:\n",
    "$$K_{\\mu}({\\bf n})=U_{\\nu}({\\bf n}+\\hat{\\mu})\\cdot U_{\\mu}^{\\dagger}({\\bf n}+\\hat{\\nu})\\cdot U_{\\nu}^{\\dagger}({\\bf n})\\cdot U_{\\nu}^{\\dagger}({\\bf n}+\\hat{\\mu}-\\hat{\\nu})\\cdot U_{\\mu}^{\\dagger}({\\bf n}-\\hat{\\nu})\\cdot U_{\\nu}({\\bf n}-\\hat{\\nu})\\Big|_{\\nu\\ne\\mu}$$\n",
    "Differentiating ${\\mathrm{Tr}}(U_{\\mu\\nu}(\\mathbf{m}))$ with respect to $U_{\\mu}(\\mathbf{n})$, with $U_{\\mu}(\\mathbf{n})$ being unitary $(U_{\\mu}^{\\dagger}U_{\\mu}=1),$ we have:\n",
    "$$\\frac{\\partial}{\\partial U_{\\mu}({\\bf n})}\\mathrm{Tr}(U_{\\mu\\nu}({\\bf n}))=K_{\\mu}({\\bf n}).$$\n",
    "Substituting this result back into the force expression, we get our final result:\n",
    "$$F_{\\mu}({\\bf n})=-2\\beta\\,\\mathrm{Im}[U_{\\mu}({\\bf n})K_{\\mu}({\\bf n})]$$"
   ]
  }
 ],
 "metadata": {
  "kernelspec": {
   "display_name": "Python 3 (ipykernel)",
   "language": "python",
   "name": "python3"
  },
  "language_info": {
   "codemirror_mode": {
    "name": "ipython",
    "version": 3
   },
   "file_extension": ".py",
   "mimetype": "text/x-python",
   "name": "python",
   "nbconvert_exporter": "python",
   "pygments_lexer": "ipython3",
   "version": "3.11.3"
  }
 },
 "nbformat": 4,
 "nbformat_minor": 5
}
