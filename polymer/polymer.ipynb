{
 "cells": [
  {
   "cell_type": "markdown",
   "metadata": {},
   "source": [
    "## Polymer Project: \n",
    "## Implementation of the pivot algorithm to simulate Self-avoiding-random walks\n",
    "\n",
    " Names: Mandus Aldag, Alexandros Mylanos"
   ]
  },
  {
   "cell_type": "code",
   "execution_count": 22,
   "metadata": {},
   "outputs": [],
   "source": [
    "import numpy as np\n",
    "import matplotlib.pyplot as plt\n",
    "from tqdm import tqdm\n"
   ]
  },
  {
   "cell_type": "code",
   "execution_count": 3,
   "metadata": {},
   "outputs": [],
   "source": [
    "def check_self_avoidance(coords, pivot = None):\n",
    "    # False = Self avoidant\n",
    "    # True = not Self avoidant\n",
    "\n",
    "    if pivot == None:\n",
    "        N = np.size(coords, axis=1)\n",
    "        hashset = set()\n",
    "        for i in range(N):\n",
    "            tmp_tuple = tuple(coords[:,i])\n",
    "            if tmp_tuple in hashset:\n",
    "                return True\n",
    "            else:\n",
    "                hashset.add(tmp_tuple)\n",
    "                \n",
    "        \n",
    "        return False\n",
    "    \n",
    "    else:\n",
    "        N = np.size(coords, axis=1)\n",
    "        if pivot >= N//2:\n",
    "            longer_site= pivot \n",
    "            shorter_site= N-pivot-1\n",
    "            dir = -1\n",
    "        else:\n",
    "            longer_site = N-pivot-1\n",
    "            shorter_site = pivot\n",
    "            dir = 1\n",
    "       \n",
    "        hashset=set()\n",
    "        for i in range(1,longer_site+1):\n",
    "            if i > shorter_site:   # Case when we scan only in the longer direction from thepivot because the short direction was already fully scanned\n",
    "                tmp_tuple = tuple(coords[:,pivot+i*dir])\n",
    "                if tmp_tuple in hashset:\n",
    "                    return True\n",
    "                else:\n",
    "                    hashset.add(tmp_tuple)\n",
    "            else: # Check in both directions of the pivot\n",
    "                tmp_tuple = tuple(coords[:,pivot+i])\n",
    "                if tmp_tuple in hashset:\n",
    "                    return True\n",
    "                else: \n",
    "                    hashset.add(tmp_tuple)\n",
    "                tmp_tuple = tuple(coords[:,pivot-i])\n",
    "                if tmp_tuple in hashset:\n",
    "                    return True\n",
    "                else: \n",
    "                    hashset.add(tmp_tuple)\n",
    "        return False\n",
    "                    "
   ]
  },
  {
   "cell_type": "code",
   "execution_count": 4,
   "metadata": {},
   "outputs": [],
   "source": [
    "def generate_random_walk(L):\n",
    "    coord = np.zeros((2,L),dtype=int)\n",
    "    for l in range(1,L):\n",
    "        direction = np.random.randint(0,4) # clock wise starting from the top\n",
    "        if direction == 0:\n",
    "            coord[0,l] = coord[0,l-1]\n",
    "            coord[1,l] = coord[1,l-1]+1 \n",
    "\n",
    "        elif  direction == 1:\n",
    "            coord[0,l] = coord[0,l-1]+1\n",
    "            coord[1,l] = coord[1,l-1]\n",
    "        \n",
    "        elif  direction == 2:\n",
    "            coord[0,l] = coord[0,l-1]\n",
    "            coord[1,l] = coord[1,l-1]-1\n",
    "\n",
    "        elif  direction == 3:\n",
    "            coord[0,l] = coord[0,l-1]-1\n",
    "            coord[1,l] =  coord[1,l-1]\n",
    "    \n",
    "    return coord\n",
    "        "
   ]
  },
  {
   "cell_type": "code",
   "execution_count": 5,
   "metadata": {},
   "outputs": [],
   "source": [
    "def initial_SAW(N: int): #Dimerisation\n",
    "    if N <= 5:\n",
    "        tmp = True\n",
    "        while tmp:\n",
    "            walk = generate_random_walk(N)\n",
    "            tmp = check_self_avoidance(walk)\n",
    "        return walk\n",
    "\n",
    "\n",
    "\n",
    "    else:\n",
    "        tmp = True\n",
    "        while tmp:\n",
    "            first = initial_SAW(N//2)\n",
    "            second = initial_SAW(N-N//2+1)\n",
    "            translated = (first[:,-1]+second.T).T\n",
    "            concatenated = np.concatenate((first,translated[:,1:]),axis=1)\n",
    "            tmp = check_self_avoidance(concatenated)\n",
    "\n",
    "        return concatenated\n"
   ]
  },
  {
   "cell_type": "code",
   "execution_count": 14,
   "metadata": {},
   "outputs": [],
   "source": [
    "def pivot_point(coord):\n",
    "    N = np.size(coord,axis=1)\n",
    "    return np.random.randint(1,N)\n",
    "\n",
    "def symmetry_op(coord):\n",
    "    N = np.size(coord,axis=1)\n",
    "    g = np.random.randint(0,7)\n",
    "    if g==0: #+90°(mathematically)\n",
    "        for i in range(N):\n",
    "            coord[:,i] = np.dot(np.array([[0,-1],[1,0]]), coord[:,i])\n",
    "    elif g==1: #-90°(mathematically)\n",
    "        for i in range(N):\n",
    "            coord[:,i] = np.dot(np.array([[0,1],[-1,0]]), coord[:,i])\n",
    "    elif g==2: #180°\n",
    "        for i in range(N):\n",
    "            coord[:,i] = np.dot(np.array([[-1,0],[0,-1]]), coord[:,i])\n",
    "    elif g==3: #x-axis symmetry\n",
    "        for i in range(N):\n",
    "            coord[:,i] = np.dot(np.array([[1,0],[0,-1]]), coord[:,i])\n",
    "    elif g==4: #y-axis symmetry\n",
    "        for i in range(N):\n",
    "            coord[:,i] = np.dot(np.array([[-1,0],[0,1]]), coord[:,i])\n",
    "    elif g==5: #diagonal reflection upperright-bottomleft\n",
    "        for i in range(N):\n",
    "            coord[:,i] = np.dot(np.array([[0,1],[1,0]]), coord[:,i])\n",
    "    elif g==6: #diagonal reflection upperleft-bottomright\n",
    "        for i in range(N):\n",
    "            coord[:,i] = np.dot(np.array([[0,-1],[-1,0]]), coord[:,i])\n",
    "    #print(\"g = \",g)\n",
    "    return coord\n",
    "    "
   ]
  },
  {
   "cell_type": "code",
   "execution_count": 21,
   "metadata": {},
   "outputs": [],
   "source": [
    "def pivot_step(coord):\n",
    "    N = np.size(coord,axis=1)\n",
    "    \n",
    "    pivot = np.random.randint(1,N-1)\n",
    "    #print(\"pivot = \",pivot)\n",
    "    to_be_operated = coord[:,pivot:]\n",
    "    to_be_operated = (to_be_operated.T-to_be_operated[:,0]).T\n",
    "    operated = symmetry_op(to_be_operated)\n",
    "    operated = (operated.T+coord[:,pivot]).T\n",
    "\n",
    "    coord_new = np.concatenate((coord[:,:pivot],operated),axis=1)\n",
    "    not_selfavoidant = check_self_avoidance(coord_new,pivot)\n",
    "    if not_selfavoidant:\n",
    "        return coord\n",
    "    else:\n",
    "        return coord_new\n"
   ]
  },
  {
   "cell_type": "code",
   "execution_count": 26,
   "metadata": {},
   "outputs": [],
   "source": [
    "def squared_end_to_end(coord):\n",
    "    return np.linalg.norm(coord[:,-1])**2\n",
    "\n",
    "def squared_gyration(coord):\n",
    "    N = np.size(coord,axis=1)\n",
    "    a = (1/N * np.sum(coord,axis=1))\n",
    "    inbracket = np.dot(a,a)\n",
    "    result = 0\n",
    "    for i in range(N):\n",
    "        result += np.dot(coord[:,i], coord[:,i])-inbracket\n",
    "    return 1/N * result"
   ]
  },
  {
   "cell_type": "code",
   "execution_count": 23,
   "metadata": {},
   "outputs": [],
   "source": [
    "def pivot_run(coord,iterations):\n",
    "    ω_squared = []\n",
    "    S_squared = []\n",
    "    for i in tqdm(range(iterations)):\n",
    "        coord = pivot_step(coord)\n",
    "        ω_squared.append(squared_end_to_end(coord))\n",
    "        S_squared.append(squared_gyration(coord))\n",
    "\n",
    "    return ω_squared, S_squared"
   ]
  },
  {
   "cell_type": "code",
   "execution_count": 43,
   "metadata": {},
   "outputs": [
    {
     "name": "stdout",
     "output_type": "stream",
     "text": [
      "g =  2\n",
      "Not selfavoidant\n",
      "g =  1\n"
     ]
    },
    {
     "data": {
      "image/png": "[encoded data removed]",
      "text/plain": [
       "<Figure size 640x480 with 1 Axes>"
      ]
     },
     "metadata": {},
     "output_type": "display_data"
    }
   ],
   "source": [
    "test = initial_SAW(30)\n",
    "plt.plot(test[0,:],test[1,:],linestyle=\"dotted\",linewidth=5)\n",
    "new = pivot_step(test)\n",
    "plt.plot(new[0,:],new[1,:])\n",
    "plt.grid()\n",
    "plt.xticks()\n",
    "plt.show()"
   ]
  },
  {
   "cell_type": "markdown",
   "metadata": {},
   "source": [
    "# Preliminary Tests"
   ]
  },
  {
   "cell_type": "code",
   "execution_count": 27,
   "metadata": {},
   "outputs": [
    {
     "name": "stderr",
     "output_type": "stream",
     "text": [
      "100%|██████████| 10000000/10000000 [06:47<00:00, 24563.62it/s]\n"
     ]
    },
    {
     "name": "stdout",
     "output_type": "stream",
     "text": [
      "Mean squared end-to-end distance is: 42.7914466 ± 26.213990674434694\n",
      "Mean squared gyration radius is: 6.1587173635555486 ± 2.0430559737802856\n"
     ]
    }
   ],
   "source": [
    "iterations = 10**7\n",
    "N=15\n",
    "coord = initial_SAW(N)\n",
    "ω_squared, S_squared = pivot_run(coord,iterations)\n",
    "mean_ω_squared = np.mean((ω_squared))\n",
    "mean_S_squared = np.mean((S_squared))\n",
    "std_ω_squared = np.std((ω_squared))\n",
    "std_S_squared = np.std((S_squared))\n",
    "print(f\"Mean squared end-to-end distance is: {mean_ω_squared} ± {std_ω_squared}\")\n",
    "print(f\"Mean squared gyration radius is: {mean_S_squared} ± {std_S_squared}\")\n"
   ]
  },
  {
   "cell_type": "code",
   "execution_count": 112,
   "metadata": {},
   "outputs": [
    {
     "data": {
      "image/png": "[encoded data removed]",
      "text/plain": [
       "<Figure size 640x480 with 1 Axes>"
      ]
     },
     "metadata": {},
     "output_type": "display_data"
    }
   ],
   "source": [
    "plt.plot(test[0,:],test[1,:])\n",
    "plt.show()"
   ]
  },
  {
   "cell_type": "code",
   "execution_count": 6,
   "metadata": {},
   "outputs": [
    {
     "name": "stdout",
     "output_type": "stream",
     "text": [
      "Broadcasting time: 0.23731660842895508\n",
      "Transposing time: 0.2448711395263672\n",
      "Results match: True\n"
     ]
    }
   ],
   "source": [
    "import numpy as np\n",
    "import time\n",
    "\n",
    "# Create large random arrays\n",
    "n, m = 20000, 20000\n",
    "first = np.random.rand(n)\n",
    "second = np.random.rand(n, m)\n",
    "\n",
    "# Method 1: Broadcasting\n",
    "start = time.time()\n",
    "result1 = second + first[:, np.newaxis]\n",
    "end = time.time()\n",
    "print(\"Broadcasting time:\", end - start)\n",
    "\n",
    "# Method 2: Transposing\n",
    "start = time.time()\n",
    "result2 = (first + second.T).T  # Assuming first is (n, m), otherwise just first\n",
    "end = time.time()\n",
    "print(\"Transposing time:\", end - start)\n",
    "\n",
    "# Verify both methods produce the same result\n",
    "print(\"Results match:\", np.allclose(result1, result2))\n"
   ]
  },
  {
   "cell_type": "code",
   "execution_count": null,
   "metadata": {},
   "outputs": [],
   "source": []
  }
 ],
 "metadata": {
  "kernelspec": {
   "display_name": "Python 3",
   "language": "python",
   "name": "python3"
  },
  "language_info": {
   "codemirror_mode": {
    "name": "ipython",
    "version": 3
   },
   "file_extension": ".py",
   "mimetype": "text/x-python",
   "name": "python",
   "nbconvert_exporter": "python",
   "pygments_lexer": "ipython3",
   "version": "3.12.3"
  }
 },
 "nbformat": 4,
 "nbformat_minor": 2
}
