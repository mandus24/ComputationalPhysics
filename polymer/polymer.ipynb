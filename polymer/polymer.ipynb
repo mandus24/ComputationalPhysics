{
 "cells": [
  {
   "cell_type": "markdown",
   "metadata": {},
   "source": [
    "## Polymer Project: \n",
    "## Implementation of the pivot algorithm to simulate Self-avoiding-random walks\n",
    "\n",
    " Names: Mandus Aldag, Alexandros Mylanos"
   ]
  },
  {
   "cell_type": "code",
   "execution_count": 1,
   "metadata": {},
   "outputs": [],
   "source": [
    "import numpy as np\n",
    "import matplotlib.pyplot as plt\n",
    "from matplotlib.ticker import MultipleLocator\n",
    "import time\n",
    "from tqdm import tqdm\n"
   ]
  },
  {
   "cell_type": "code",
   "execution_count": 2,
   "metadata": {},
   "outputs": [],
   "source": [
    "def check_self_avoidance(coords, pivot = None):\n",
    "    # False = Self avoidant\n",
    "    # True = not Self avoidant\n",
    "\n",
    "    if pivot == None:\n",
    "        N = np.size(coords, axis=1)\n",
    "        hashset = set()\n",
    "        for i in range(N):\n",
    "            tmp_tuple = tuple(coords[:,i])\n",
    "            if tmp_tuple in hashset:\n",
    "                return True\n",
    "            else:\n",
    "                hashset.add(tmp_tuple)\n",
    "                \n",
    "        \n",
    "        return False\n",
    "    \n",
    "    else:\n",
    "        N = np.size(coords, axis=1)\n",
    "        if pivot >= N//2:\n",
    "            longer_site= pivot \n",
    "            shorter_site= N-pivot-1\n",
    "            dir = -1\n",
    "        else:\n",
    "            longer_site = N-pivot-1\n",
    "            shorter_site = pivot\n",
    "            dir = 1\n",
    "       \n",
    "        hashset=set()\n",
    "        for i in range(1,longer_site+1):\n",
    "            if i > shorter_site:   # Case when we scan only in the longer direction from the pivot because the short direction was already fully scanned\n",
    "                tmp_tuple = tuple(coords[:,pivot+i*dir])\n",
    "                if tmp_tuple in hashset:\n",
    "                    return True\n",
    "                else:\n",
    "                    hashset.add(tmp_tuple)\n",
    "            else: # Check in both directions of the pivot\n",
    "                tmp_tuple = tuple(coords[:,pivot+i])\n",
    "                if tmp_tuple in hashset:\n",
    "                    return True\n",
    "                else: \n",
    "                    hashset.add(tmp_tuple)\n",
    "                tmp_tuple = tuple(coords[:,pivot-i])\n",
    "                if tmp_tuple in hashset:\n",
    "                    return True\n",
    "                else: \n",
    "                    hashset.add(tmp_tuple)\n",
    "        return False\n",
    "                    "
   ]
  },
  {
   "cell_type": "code",
   "execution_count": 3,
   "metadata": {},
   "outputs": [],
   "source": [
    "def generate_random_walk(L):\n",
    "    coord = np.zeros((2,L),dtype=int)\n",
    "    for l in range(1,L):\n",
    "        direction = np.random.randint(0,4) # clock wise starting from the top\n",
    "        if direction == 0:\n",
    "            coord[0,l] = coord[0,l-1]\n",
    "            coord[1,l] = coord[1,l-1]+1 \n",
    "\n",
    "        elif  direction == 1:\n",
    "            coord[0,l] = coord[0,l-1]+1\n",
    "            coord[1,l] = coord[1,l-1]\n",
    "        \n",
    "        elif  direction == 2:\n",
    "            coord[0,l] = coord[0,l-1]\n",
    "            coord[1,l] = coord[1,l-1]-1\n",
    "\n",
    "        elif  direction == 3:\n",
    "            coord[0,l] = coord[0,l-1]-1\n",
    "            coord[1,l] =  coord[1,l-1]\n",
    "    \n",
    "    return coord\n",
    "        "
   ]
  },
  {
   "cell_type": "code",
   "execution_count": 4,
   "metadata": {},
   "outputs": [],
   "source": [
    "def initial_SAW(N: int): #Dimerisation\n",
    "    if N <= 5:\n",
    "        tmp = True\n",
    "        while tmp:\n",
    "            walk = generate_random_walk(N)\n",
    "            tmp = check_self_avoidance(walk)\n",
    "        return walk\n",
    "\n",
    "\n",
    "\n",
    "    else:\n",
    "        tmp = True\n",
    "        while tmp:\n",
    "            first = initial_SAW(N//2)\n",
    "            second = initial_SAW(N-N//2+1)\n",
    "            translated = (first[:,-1]+second.T).T\n",
    "            concatenated = np.concatenate((first,translated[:,1:]),axis=1)\n",
    "            tmp = check_self_avoidance(concatenated)\n",
    "\n",
    "        return concatenated\n"
   ]
  },
  {
   "cell_type": "code",
   "execution_count": 5,
   "metadata": {},
   "outputs": [
    {
     "data": {
      "text/plain": [
       "array([0, 1, 2, 3, 4])"
      ]
     },
     "execution_count": 5,
     "metadata": {},
     "output_type": "execute_result"
    }
   ],
   "source": [
    "def initial_SAW_rod(N: int):\n",
    "    coord = np.zeros((2,N),dtype=int)\n",
    "    for i in range(N):\n",
    "        coord[0,i] = i\n",
    "    return coord\n",
    "\n",
    "test = initial_SAW_rod(10)[0,:]\n",
    "test[:5]"
   ]
  },
  {
   "cell_type": "code",
   "execution_count": 6,
   "metadata": {},
   "outputs": [],
   "source": [
    "def symmetry_op(coord):\n",
    "    N = np.size(coord,axis=1)\n",
    "    g = np.random.randint(0,7)\n",
    "    if g==0: #+90°(mathematically)\n",
    "        for i in range(N):\n",
    "            coord[:,i] = np.dot(np.array([[0,-1],[1,0]]), coord[:,i])\n",
    "    elif g==1: #-90°(mathematically)\n",
    "        for i in range(N):\n",
    "            coord[:,i] = np.dot(np.array([[0,1],[-1,0]]), coord[:,i])\n",
    "    elif g==2: #180°\n",
    "        for i in range(N):\n",
    "            coord[:,i] = np.dot(np.array([[-1,0],[0,-1]]), coord[:,i])\n",
    "    elif g==3: #x-axis symmetry\n",
    "        for i in range(N):\n",
    "            coord[:,i] = np.dot(np.array([[1,0],[0,-1]]), coord[:,i])\n",
    "    elif g==4: #y-axis symmetry\n",
    "        for i in range(N):\n",
    "            coord[:,i] = np.dot(np.array([[-1,0],[0,1]]), coord[:,i])\n",
    "    elif g==5: #diagonal reflection upperright-bottomleft\n",
    "        for i in range(N):\n",
    "            coord[:,i] = np.dot(np.array([[0,1],[1,0]]), coord[:,i])\n",
    "    elif g==6: #diagonal reflection upperleft-bottomright\n",
    "        for i in range(N):\n",
    "            coord[:,i] = np.dot(np.array([[0,-1],[-1,0]]), coord[:,i])\n",
    "    if debug:\n",
    "        print(\"g = \",g)\n",
    "    return coord, g\n",
    "    "
   ]
  },
  {
   "cell_type": "code",
   "execution_count": 7,
   "metadata": {},
   "outputs": [],
   "source": [
    "def pivot_step(coord):\n",
    "    global accepted\n",
    "    N = np.size(coord,axis=1)\n",
    "    pivot = np.random.randint(1,N)\n",
    "    if debug:\n",
    "        print(\"pivot = \",pivot)\n",
    "    to_be_operated = coord[:,pivot:]\n",
    "    to_be_operated = (to_be_operated.T-to_be_operated[:,0]).T\n",
    "    operated, g = symmetry_op(to_be_operated)\n",
    "    accepted[1,g] +=1\n",
    "    operated = (operated.T+coord[:,pivot]).T\n",
    "\n",
    "    coord_new = np.concatenate((coord[:,:pivot],operated),axis=1)\n",
    "    not_selfavoidant = check_self_avoidance(coord_new,pivot)\n",
    "    if not_selfavoidant:\n",
    "        if debug:\n",
    "            print(\"Not selfavoidant\")\n",
    "        return coord\n",
    "    else:\n",
    "        accepted[0,g] +=1\n",
    "        return coord_new\n"
   ]
  },
  {
   "cell_type": "code",
   "execution_count": 8,
   "metadata": {},
   "outputs": [],
   "source": [
    "def squared_end_to_end(coord):\n",
    "    return np.linalg.norm(coord[:,-1])**2\n",
    "\n",
    "def squared_gyration(coord):\n",
    "    N = np.size(coord,axis=1)\n",
    "    a = (1/N * np.sum(coord,axis=1))\n",
    "    inbracket = np.dot(a,a)\n",
    "    result = 0\n",
    "    for i in range(N):\n",
    "        result += np.dot(coord[:,i], coord[:,i])-inbracket\n",
    "    return 1/N * result"
   ]
  },
  {
   "cell_type": "code",
   "execution_count": 9,
   "metadata": {},
   "outputs": [],
   "source": [
    "def pivot_run(coord,iterations):\n",
    "    global accepted\n",
    "    ω_squared = []\n",
    "    S_squared = []\n",
    "    for i in tqdm(range(iterations)):\n",
    "        coord = pivot_step(coord)\n",
    "        ω_squared.append(squared_end_to_end(coord))\n",
    "        S_squared.append(squared_gyration(coord))\n",
    "    return ω_squared, S_squared, accepted"
   ]
  },
  {
   "cell_type": "code",
   "execution_count": 10,
   "metadata": {},
   "outputs": [],
   "source": [
    "def autocorrelation(timeseries, mean=None):\n",
    "    timeseries = np.array(timeseries)\n",
    "    if mean is None:\n",
    "        mean = timeseries.mean()\n",
    "    fluctuations = timeseries-mean\n",
    "\n",
    "    C = np.fft.ifft(np.fft.fft(fluctuations) * np.fft.ifft(fluctuations)).real\n",
    "    return C/C[0]\n",
    "\n",
    "def integrated_autocorrelation_time(timeseries, mean=None, until=None):\n",
    "    steps = len(timeseries)\n",
    "    if until is None:\n",
    "        until = steps // 2\n",
    "    Gamma = autocorrelation(timeseries, mean=mean)[:until]\n",
    "    try:\n",
    "        first_zero = np.where(Gamma <= 0)[0][0]\n",
    "        print(\"First zero = \",first_zero)\n",
    "        return 0.5 + Gamma[1:first_zero].sum()\n",
    "    except:\n",
    "        # Gamma never hits 0.  So the autocorrelation spans ~ the whole ensemble.\n",
    "        return steps # at least!"
   ]
  },
  {
   "cell_type": "code",
   "execution_count": 11,
   "metadata": {},
   "outputs": [],
   "source": [
    "def binning_analyis(data,kmax):\n",
    "    M = len(data)\n",
    "    error_est = []\n",
    "    for k in range(1,kmax+1):\n",
    "        M_k = M//k\n",
    "        X_k = np.mean(np.reshape(data[:M_k*k],(-1,k)).T,axis=0)\n",
    "        #print(len(X_k))\n",
    "        error_est.append(np.std(X_k)/np.sqrt(M_k))\n",
    "    τ = 0.5*((error_est[-1]/error_est[0])**2-1)\n",
    "    return error_est, int(np.ceil(τ))"
   ]
  },
  {
   "cell_type": "code",
   "execution_count": 17,
   "metadata": {},
   "outputs": [
    {
     "name": "stdout",
     "output_type": "stream",
     "text": [
      "pivot =  3\n",
      "g =  5\n",
      "10.000000000000002\n"
     ]
    },
    {
     "data": {
      "image/png": "[encoded data removed]",
      "text/plain": [
       "<Figure size 640x480 with 1 Axes>"
      ]
     },
     "metadata": {},
     "output_type": "display_data"
    }
   ],
   "source": [
    "test = initial_SAW(5)\n",
    "debug = 1\n",
    "plt.plot(test[0,:],test[1,:],linewidth=5,label=\"Original\")\n",
    "new = pivot_step(test)\n",
    "print(squared_end_to_end(new))\n",
    "plt.plot(new[0,:],new[1,:],label=\"New\")\n",
    "ax = plt.gca() \n",
    "ax.xaxis.set_major_locator(MultipleLocator(1))  # X ticks every 1 unit\n",
    "ax.yaxis.set_major_locator(MultipleLocator(1))\n",
    "plt.axis(\"equal\")\n",
    "plt.legend()\n",
    "plt.grid()\n",
    "plt.show()"
   ]
  },
  {
   "cell_type": "markdown",
   "metadata": {},
   "source": [
    "# Preliminary Tests"
   ]
  },
  {
   "cell_type": "code",
   "execution_count": null,
   "metadata": {},
   "outputs": [
    {
     "name": "stderr",
     "output_type": "stream",
     "text": [
      "100%|██████████| 10000000/10000000 [06:46<00:00, 24601.48it/s]\n"
     ]
    },
    {
     "name": "stdout",
     "output_type": "stream",
     "text": [
      "Mean squared end-to-end distance is: 47.233436 ± 0.009237335889542378\n",
      "Mean squared gyration radius is: 6.7823586875 ± 0.0007195143428142026\n",
      "Universal ratio is: 0.1435923206497194\n",
      "Acceptance rate f =  0.5809505\n"
     ]
    }
   ],
   "source": [
    "iterations = 10**7\n",
    "N=16\n",
    "coord = initial_SAW(N)\n",
    "accepted = np.zeros(7)\n",
    "debug = 0\n",
    "ω_squared, S_squared,f = pivot_run(coord,iterations)"
   ]
  },
  {
   "cell_type": "code",
   "execution_count": 17,
   "metadata": {},
   "outputs": [
    {
     "name": "stderr",
     "output_type": "stream",
     "text": [
      "100%|██████████| 10000000/10000000 [06:47<00:00, 24569.21it/s]"
     ]
    },
    {
     "name": "stdout",
     "output_type": "stream",
     "text": [
      "0.5810395\n"
     ]
    },
    {
     "name": "stderr",
     "output_type": "stream",
     "text": [
      "\n"
     ]
    }
   ],
   "source": [
    "np.random.seed(4321)\n",
    "iterations = 10**7\n",
    "N=16\n",
    "coord = initial_SAW(N)\n",
    "accepted = np.zeros((2,7))\n",
    "debug = 0\n",
    "ω_squared, S_squared, accepted = pivot_run(coord,iterations)\n",
    "f = np.sum(accepted[0,:])/np.sum(accepted[1,:])\n",
    "f_ops = accepted[0,:]/accepted[1,:]\n",
    "print(f)"
   ]
  },
  {
   "cell_type": "markdown",
   "metadata": {},
   "source": [
    "Error analysis and results:"
   ]
  },
  {
   "cell_type": "code",
   "execution_count": 18,
   "metadata": {},
   "outputs": [
    {
     "name": "stdout",
     "output_type": "stream",
     "text": [
      "Mean squared end-to-end distance is: 47.1933868 ± 0.026909941028947088\n",
      "Mean squared gyration radius is: 6.7844908109375 ± 0.00265304030574153\n",
      "Universal ratio is: 0.14375935424362254\n",
      "Acceptance rate f =  0.5810395\n",
      "Autocorrelation time ω^2=  4\n",
      "Autocorrelation time S^2=  7\n"
     ]
    }
   ],
   "source": [
    "error_ω_squared,τ_int_bin_ω_squared  = binning_analyis(ω_squared,300)\n",
    "error_S_squared,τ_int_bin_S_squared  = binning_analyis(S_squared,300)\n",
    "mean_ω_squared = np.mean(ω_squared)\n",
    "mean_S_squared = np.mean(S_squared)\n",
    "ur = mean_S_squared/mean_ω_squared\n",
    "\n",
    "\n",
    "print(f\"Mean squared end-to-end distance is: {mean_ω_squared} ± {error_ω_squared[-1]}\")\n",
    "print(f\"Mean squared gyration radius is: {mean_S_squared} ± {error_S_squared[-1]}\")\n",
    "print(f\"Universal ratio is: {ur}\")\n",
    "print(f\"Acceptance rate f = \",f)\n",
    "print(f\"Autocorrelation time ω^2= \",τ_int_bin_ω_squared)\n",
    "print(f\"Autocorrelation time S^2= \",τ_int_bin_S_squared )"
   ]
  },
  {
   "cell_type": "markdown",
   "metadata": {},
   "source": [
    "# N=20"
   ]
  },
  {
   "cell_type": "code",
   "execution_count": null,
   "metadata": {},
   "outputs": [
    {
     "name": "stderr",
     "output_type": "stream",
     "text": [
      "100%|██████████| 10000000/10000000 [08:27<00:00, 19709.15it/s]\n"
     ]
    }
   ],
   "source": [
    "np.random.seed(1234)\n",
    "iterations = 10**7\n",
    "N=21\n",
    "coord = initial_SAW(N)\n",
    "accepted = 0\n",
    "debug = 0\n",
    "ω_squared, S_squared,f = pivot_run(coord,iterations)"
   ]
  },
  {
   "cell_type": "code",
   "execution_count": 22,
   "metadata": {},
   "outputs": [
    {
     "name": "stderr",
     "output_type": "stream",
     "text": [
      "100%|██████████| 10000000/10000000 [08:17<00:00, 20112.65it/s]\n"
     ]
    },
    {
     "name": "stdout",
     "output_type": "stream",
     "text": [
      "0.5487302\n"
     ]
    }
   ],
   "source": [
    "np.random.seed(1234)\n",
    "iterations = 10**7\n",
    "N=21\n",
    "coord = initial_SAW(N)\n",
    "accepted = np.zeros((2,7))\n",
    "debug = 0\n",
    "ω_squared, S_squared, accepted = pivot_run(coord,iterations)\n",
    "f = np.sum(accepted[0,:])/np.sum(accepted[1,:])\n",
    "f_ops = accepted[0,:]/accepted[1,:]\n",
    "print(f)"
   ]
  },
  {
   "cell_type": "code",
   "execution_count": null,
   "metadata": {},
   "outputs": [
    {
     "name": "stdout",
     "output_type": "stream",
     "text": [
      "Mean squared end-to-end distance is: 72.0007204 ± 0.04412505568238656\n",
      "Mean squared gyration radius is: 10.239910732426322 ± 0.004485764343457121\n",
      "Universal ratio is: 0.14221955940910727\n",
      "Acceptance rate f =  0.5487302\n",
      "Autocorrelation time ω^2=  5\n",
      "Autocorrelation time S^2=  8\n"
     ]
    }
   ],
   "source": [
    "\n",
    "error_ω_squared,τ_int_bin_ω_squared  = binning_analyis(ω_squared,300)\n",
    "error_S_squared,τ_int_bin_S_squared  = binning_analyis(S_squared,300)\n",
    "mean_ω_squared = np.mean(ω_squared)\n",
    "mean_S_squared = np.mean(S_squared)\n",
    "ur = mean_S_squared/mean_ω_squared\n",
    "\n",
    "print(f\"Mean squared end-to-end distance is: {mean_ω_squared} ± {error_ω_squared[-1]}\")\n",
    "print(f\"Mean squared gyration radius is: {mean_S_squared} ± {error_S_squared[-1]}\")\n",
    "print(f\"Universal ratio is: {ur}\")\n",
    "print(f\"Acceptance rate f = \",f)\n",
    "print(f\"Autocorrelation time ω^2= \",τ_int_bin_ω_squared)\n",
    "print(f\"Autocorrelation time S^2= \",τ_int_bin_S_squared )"
   ]
  },
  {
   "cell_type": "code",
   "execution_count": 25,
   "metadata": {},
   "outputs": [
    {
     "data": {
      "text/plain": [
       "<matplotlib.collections.PathCollection at 0x788ed80075c0>"
      ]
     },
     "execution_count": 25,
     "metadata": {},
     "output_type": "execute_result"
    },
    {
     "data": {
      "image/png": "[encoded data removed]",
      "text/plain": [
       "<Figure size 640x480 with 1 Axes>"
      ]
     },
     "metadata": {},
     "output_type": "display_data"
    }
   ],
   "source": [
    "plt.scatter(range(300),error_S_squared)"
   ]
  },
  {
   "cell_type": "code",
   "execution_count": null,
   "metadata": {},
   "outputs": [
    {
     "name": "stdout",
     "output_type": "stream",
     "text": [
      "Dimerization time: 615.6446738243103\n"
     ]
    },
    {
     "name": "stderr",
     "output_type": "stream",
     "text": [
      "100%|██████████| 1000000/1000000 [27:12<00:00, 612.63it/s]\n"
     ]
    }
   ],
   "source": [
    "np.random.seed(43210)\n",
    "iterations = 10**6\n",
    "N=1001\n",
    "start = time.time()\n",
    "coord = initial_SAW(N)\n",
    "end = time.time()\n",
    "print(\"Dimerization time:\", end - start)\n",
    "ω_squared, S_squared,f = pivot_run(coord,iterations)\n"
   ]
  },
  {
   "cell_type": "code",
   "execution_count": 124,
   "metadata": {},
   "outputs": [
    {
     "name": "stdout",
     "output_type": "stream",
     "text": [
      "Mean squared end-to-end distance is: 24433.16705416473 ± 88.26524734891058\n",
      "Mean squared gyration radius is: 3424.6538098759547 ± 10.090815030068034\n",
      "Universal ratio is: 0.14016413845507633\n",
      "Acceptance rate f =  0.253896\n"
     ]
    }
   ],
   "source": [
    "error_ω_squared,τ_int_bin_ω_squared  = binning_analyis(ω_squared,500)\n",
    "error_S_squared,τ_int_bin_S_squared  = binning_analyis(S_squared,500)\n",
    "uncorrelated_ω_squared = ω_squared[::τ_int_bin_ω_squared]\n",
    "uncorrelated_S_squared = S_squared[::τ_int_bin_S_squared]\n",
    "mean_ω_squared = np.mean(uncorrelated_ω_squared)\n",
    "mean_S_squared = np.mean(uncorrelated_S_squared)\n",
    "ur = mean_S_squared/mean_ω_squared\n",
    "\n",
    "\n",
    "print(f\"Mean squared end-to-end distance is: {mean_ω_squared} ± {error_ω_squared[-1]}\")\n",
    "print(f\"Mean squared gyration radius is: {mean_S_squared} ± {error_S_squared[-1]}\")\n",
    "print(f\"Universal ratio is: {ur}\")\n",
    "print(f\"Acceptance rate f = \",f)"
   ]
  },
  {
   "cell_type": "code",
   "execution_count": null,
   "metadata": {},
   "outputs": [
    {
     "data": {
      "text/plain": [
       "<matplotlib.collections.PathCollection at 0x7dc778c70ec0>"
      ]
     },
     "execution_count": 125,
     "metadata": {},
     "output_type": "execute_result"
    },
    {
     "data": {
      "image/png": "[encoded data removed]",
      "text/plain": [
       "<Figure size 640x480 with 1 Axes>"
      ]
     },
     "metadata": {},
     "output_type": "display_data"
    }
   ],
   "source": [
    "plt.scatter(range(500),error_ω_squared)\n",
    "plt.scatter(range(500),error_S_squared)"
   ]
  },
  {
   "cell_type": "markdown",
   "metadata": {},
   "source": [
    "# Simulations"
   ]
  },
  {
   "cell_type": "code",
   "execution_count": null,
   "metadata": {},
   "outputs": [],
   "source": [
    "#Ns = [101,201,401,601,801,1001,1201,1401,1601,2001,2401,3001,4001]\n",
    "#seeds = np.arrayarray([2781300983, 552437507, 239163331, 1112836520, 1562221245, 4039863786,  930428319, 4185896816, 2716273418, 4265127893, 432287740, 2672218962, 3546297565])\n",
    "Ns = [16,21]\n",
    "seeds = np.array([2790077416, 1086981728])\n",
    "iterations = 10**6\n",
    "binning_max = 200\n",
    "times = np.zeros((2,len(Ns)))\n",
    "ω_squareds = np.zeros((len(Ns),iterations))\n",
    "S_squareds = np.zeros((len(Ns),iterations))\n",
    "error_ω_squareds = np.zeros((len(Ns),binning_max))\n",
    "error_S_squareds = np.zeros((len(Ns),binning_max))\n",
    "autocorr_time_ω_squareds = np.zeros(len(Ns))\n",
    "autocorr_time_S_squareds = np.zeros(len(Ns))\n",
    "debug = 0\n",
    "\n",
    "for i,N in enumerate(Ns):\n",
    "    np.random.seed(seeds[i])\n",
    "    accepted = np.zeros((2,7))\n",
    "    start = time.time()\n",
    "    coord = initial_SAW(N)\n",
    "    end = time.time()\n",
    "    ω_squared, S_squared, accepted = pivot_run(coord,iterations)\n",
    "    end_total = time.time()\n",
    "    ω_squareds[i,:] = ω_squared\n",
    "    S_squareds[i,:] = S_squared\n",
    "\n",
    "    times[0,i] = end-start\n",
    "    times[1,i] = end_total-start\n",
    "\n",
    "    np.save(f\"accepted{N}.npy\",accepted)\n",
    "\n",
    "    error_ω_squared, autocorr_time_ω_squared = binning_analyis(ω_squared,binning_max)\n",
    "    error_S_squared, autocorr_time_S_squared = binning_analyis(S_squared,binning_max)\n",
    "    error_ω_squareds[i,:] = error_ω_squared\n",
    "    error_S_squareds[i,:] = error_S_squared\n",
    "    autocorr_time_ω_squareds[i] = autocorr_time_ω_squared\n",
    "    autocorr_time_S_squareds[i] = autocorr_time_S_squared\n",
    "    \n",
    "\n",
    "    plt.xlabel(\"Binning level\")\n",
    "    plt.ylabel(\"Error\")\n",
    "    plt.grid()\n",
    "    plt.scatter(range(binning_max),error_ω_squared,label=\"Squared end-to-end distance\")\n",
    "    plt.scatter(range(binning_max),error_S_squared,label=\"Squared radius of gyration\")\n",
    "    plt.legend()\n",
    "    plt.savefig(f\"Binning_analysis{N}.png\")\n",
    "    plt.close()\n",
    "\n",
    "\n",
    "np.save(\"ω_squareds.npy\",ω_squareds)\n",
    "np.save(\"S_squareds.npy\",S_squareds)\n",
    "np.save(\"times.npy\",times)\n",
    "np.save(\"error_ω_squareds.npy\",error_ω_squareds)\n",
    "np.save(\"error_S_squareds.npy\",error_S_squareds)\n",
    "np.save(\"autocorr_time_ω_squared.npy\",autocorr_time_ω_squareds)\n",
    "np.save(\"autocorr_time_S_squared.npy\",autocorr_time_S_squareds)\n",
    "\n"
   ]
  },
  {
   "cell_type": "markdown",
   "metadata": {},
   "source": [
    "# Results and Analysis"
   ]
  },
  {
   "cell_type": "code",
   "execution_count": 26,
   "metadata": {},
   "outputs": [
    {
     "name": "stdout",
     "output_type": "stream",
     "text": [
      "Results for N = 101:\n",
      "Mean squared end-to-end distance is: 779.531542 ± 2.119077110310787\n",
      "Mean squared gyration radius is: 109.20901555376922 ± 0.23832078599091475\n",
      "Universal ratio ur = 0.14009569808243785\n",
      "Acceptance rate f =  0.398538\n",
      "Autocorrelation time ω^2 =  7.947150653165174\n",
      "Autocorrelation time S^2 =  16.485963127238517\n",
      "Total simulation time [s] = 392.278107881546\n",
      "From that: Dimerisation time [s] = 0.13713550567626953\n",
      "\n",
      "Results for N = 201:\n",
      "Mean squared end-to-end distance is: 2184.677104 ± 6.862774641783204\n",
      "Mean squared gyration radius is: 306.215909992723 ± 0.7958037003173813\n",
      "Universal ratio ur = 0.1401652946479193\n",
      "Acceptance rate f =  0.347684\n",
      "Autocorrelation time ω^2 =  10.766281082055999\n",
      "Autocorrelation time S^2 =  23.10719460197443\n",
      "Total simulation time [s] = 749.9023852348328\n",
      "From that: Dimerisation time [s] = 0.6528449058532715\n",
      "\n",
      "Results for N = 401:\n",
      "Mean squared end-to-end distance is: 6163.314806 ± 20.433018066857063\n",
      "Mean squared gyration radius is: 867.1136797441562 ± 2.2860307068013515\n",
      "Universal ratio ur = 0.14068950021829474\n",
      "Acceptance rate f =  0.303647\n",
      "Autocorrelation time ω^2 =  11.823848647522796\n",
      "Autocorrelation time S^2 =  23.56994017166277\n",
      "Total simulation time [s] = 1487.1281425952911\n",
      "From that: Dimerisation time [s] = 41.49553084373474\n",
      "\n",
      "Results for N = 601:\n",
      "Mean squared end-to-end distance is: 11402.734418 ± 39.553630553144025\n",
      "Mean squared gyration radius is: 1600.2189542046171 ± 4.588989795376481\n",
      "Universal ratio ur = 0.14033642243553104\n",
      "Acceptance rate f =  0.28063\n",
      "Autocorrelation time ω^2 =  13.110599651747549\n",
      "Autocorrelation time S^2 =  28.051868588324076\n",
      "Total simulation time [s] = 2161.8855254650116\n",
      "From that: Dimerisation time [s] = 32.1554012298584\n",
      "\n",
      "Results for N = 801:\n",
      "Mean squared end-to-end distance is: 17524.312434 ± 65.94600465919679\n",
      "Mean squared gyration radius is: 2452.50228126303 ± 7.426290029797572\n",
      "Universal ratio ur = 0.13994855949411053\n",
      "Acceptance rate f =  0.265287\n",
      "Autocorrelation time ω^2 =  15.197432231387474\n",
      "Autocorrelation time S^2 =  30.544636293342727\n",
      "Total simulation time [s] = 2843.154925107956\n",
      "From that: Dimerisation time [s] = 4.2327659130096436\n",
      "\n",
      "Results for N = 1001:\n",
      "Mean squared end-to-end distance is: 24446.476488 ± 91.00182090632896\n",
      "Mean squared gyration radius is: 3417.256117457098 ± 10.234355483661513\n",
      "Universal ratio ur = 0.139785220955442\n",
      "Acceptance rate f =  0.253717\n",
      "Autocorrelation time ω^2 =  14.949499538450022\n",
      "Autocorrelation time S^2 =  29.948818257699546\n",
      "Total simulation time [s] = 3559.6897025108337\n",
      "From that: Dimerisation time [s] = 46.32687497138977\n",
      "\n",
      "Results for N = 1201:\n",
      "Mean squared end-to-end distance is: 32208.183528 ± 117.69918168798974\n",
      "Mean squared gyration radius is: 4522.330140767474 ± 13.639299953816417\n",
      "Universal ratio ur = 0.14040935083582134\n",
      "Acceptance rate f =  0.245471\n",
      "Autocorrelation time ω^2 =  14.559560206094847\n",
      "Autocorrelation time S^2 =  30.790550984936868\n",
      "Total simulation time [s] = 4961.209560871124\n",
      "From that: Dimerisation time [s] = 737.9805724620819\n",
      "\n",
      "Results for N = 1401:\n",
      "Mean squared end-to-end distance is: 40374.201736 ± 154.6805587052084\n",
      "Mean squared gyration radius is: 5631.017700107176 ± 17.77958048152945\n",
      "Universal ratio ur = 0.13947068816189698\n",
      "Acceptance rate f =  0.237017\n",
      "Autocorrelation time ω^2 =  15.978934953435452\n",
      "Autocorrelation time S^2 =  33.509414489442975\n",
      "Total simulation time [s] = 5598.810720205307\n",
      "From that: Dimerisation time [s] = 687.3074471950531\n",
      "\n",
      "Results for N = 1601:\n",
      "Mean squared end-to-end distance is: 49370.636672 ± 188.15664255750028\n",
      "Mean squared gyration radius is: 6929.534036424733 ± 21.71822424932807\n",
      "Universal ratio ur = 0.14035739669435415\n",
      "Acceptance rate f =  0.230919\n",
      "Autocorrelation time ω^2 =  15.84755007072497\n",
      "Autocorrelation time S^2 =  32.95860443566063\n",
      "Total simulation time [s] = 6942.717878103256\n",
      "From that: Dimerisation time [s] = 1366.087874174118\n",
      "\n",
      "Results for N = 2001:\n",
      "Mean squared end-to-end distance is: 68728.680018 ± 269.88093607679735\n",
      "Mean squared gyration radius is: 9644.688329330842 ± 30.34997990105894\n",
      "Universal ratio ur = 0.14032989323823628\n",
      "Acceptance rate f =  0.22102\n",
      "Autocorrelation time ω^2 =  16.78419282958106\n",
      "Autocorrelation time S^2 =  33.0284005798667\n",
      "Total simulation time [s] = 16456.33788228035\n",
      "From that: Dimerisation time [s] = 9488.578686237335\n",
      "\n",
      "Results for N = 2401:\n",
      "Mean squared end-to-end distance is: 90497.924576 ± 355.0885161092361\n",
      "Mean squared gyration radius is: 12703.041082573158 ± 39.606914094466894\n",
      "Universal ratio ur = 0.14036831388221688\n",
      "Acceptance rate f =  0.213545\n",
      "Autocorrelation time ω^2 =  16.823235314366382\n",
      "Autocorrelation time S^2 =  33.13941661822599\n",
      "Total simulation time [s] = 9586.931955575943\n",
      "From that: Dimerisation time [s] = 1265.6645386219025\n",
      "\n",
      "Results for N = 3001:\n",
      "Mean squared end-to-end distance is: 127534.48201 ± 534.022463695991\n",
      "Mean squared gyration radius is: 17831.853219523557 ± 59.88044349883185\n",
      "Universal ratio ur = 0.139819858429545\n",
      "Acceptance rate f =  0.205007\n",
      "Autocorrelation time ω^2 =  19.241770122949415\n",
      "Autocorrelation time S^2 =  37.652308510223946\n",
      "Total simulation time [s] = 66719.00717020035\n",
      "From that: Dimerisation time [s] = 56409.033772945404\n",
      "\n",
      "Results for N = 4001:\n",
      "Mean squared end-to-end distance is: 194376.431288 ± 820.9748787747665\n",
      "Mean squared gyration radius is: 27158.699268873414 ± 90.01342941088495\n",
      "Universal ratio ur = 0.13972218282284143\n",
      "Acceptance rate f =  0.193362\n",
      "Autocorrelation time ω^2 =  19.81805196340218\n",
      "Autocorrelation time S^2 =  37.562352796595846\n",
      "Total simulation time [s] = 39942.045145988464\n",
      "From that: Dimerisation time [s] = 26272.932327747345\n",
      "\n"
     ]
    }
   ],
   "source": [
    "#Ns = [101,201,401,601,801,1001,1201,1401,1601,2001,2401,3001,4001,5001,6001,7001,8001,9001,10001]\n",
    "Ns = [101,201,401,601,801,1001,1201,1401,1601,2001,2401,3001,4001]\n",
    "ω_squareds = np.load(\"results/ω_squareds.npy\")\n",
    "S_squareds = np.load(\"results/S_squareds.npy\")\n",
    "error_ω_squareds = np.load(\"results/error_ω_squareds.npy\")[:,-1]\n",
    "error_S_squareds = np.load(\"results/error_S_squareds.npy\")[:,-1]\n",
    "autocorr_time_ω_squareds=np.load(\"results/autocorr_time_ω_squared.npy\")\n",
    "autocorr_time_S_squareds=np.load(\"results/autocorr_time_S_squared.npy\")\n",
    "times = np.load(\"results/times.npy\")\n",
    "mean_ω_squareds=[]\n",
    "mean_S_squareds=[]\n",
    "fs = []\n",
    "for i,N in enumerate(Ns):\n",
    "    ω_squared = ω_squareds[i,:]\n",
    "    S_squared = S_squareds[i,:]\n",
    "    #error_ω_squared = error_ω_squareds[i,:]\n",
    "    #error_S_squared = error_S_squareds[i,:]\n",
    "    autocorr_time_ω_squared = autocorr_time_ω_squareds[i]\n",
    "    autocorr_time_S_squared = autocorr_time_S_squareds[i]\n",
    "\n",
    "    mean_ω_squared = np.mean(ω_squared)\n",
    "    mean_ω_squareds.append(mean_ω_squared)\n",
    "    mean_S_squared = np.mean(S_squared)\n",
    "    mean_S_squareds.append(mean_S_squared)\n",
    "\n",
    "    ur = mean_S_squared/mean_ω_squared\n",
    "    accepted = np.load(f\"results/accepted{N}.npy\")\n",
    "    f = np.sum(accepted[0,:])/np.sum(accepted[1,:])\n",
    "    fs.append(f)\n",
    "    \n",
    "\n",
    "\n",
    "    print(f\"Results for N = {N}:\")\n",
    "    print(f\"Mean squared end-to-end distance is: {mean_ω_squared} ± {error_ω_squareds[i]}\")\n",
    "    print(f\"Mean squared gyration radius is: {mean_S_squared} ± {error_S_squareds[i]}\")\n",
    "    print(f\"Universal ratio ur = {ur}\")\n",
    "    print(f\"Acceptance rate f = \",f)\n",
    "    print(f\"Autocorrelation time ω^2 = \",autocorr_time_ω_squared)\n",
    "    print(f\"Autocorrelation time S^2 = \",autocorr_time_S_squared )\n",
    "    print(f\"Total simulation time [s] = {times[1,i]}\")\n",
    "    print(f\"From that: Dimerisation time [s] = {times[0,i]}\")\n",
    "    print()\n",
    "          "
   ]
  },
  {
   "cell_type": "markdown",
   "metadata": {},
   "source": [
    "# Critical Exponents"
   ]
  },
  {
   "cell_type": "code",
   "execution_count": 45,
   "metadata": {},
   "outputs": [
    {
     "name": "stdout",
     "output_type": "stream",
     "text": [
      "Critical exponent p = 0.196558\n",
      "A = 0.986632\n",
      "R-squared: 0.999948\n"
     ]
    },
    {
     "data": {
      "image/png": "[encoded data removed]",
      "text/plain": [
       "<Figure size 640x480 with 1 Axes>"
      ]
     },
     "metadata": {},
     "output_type": "display_data"
    }
   ],
   "source": [
    "from scipy import stats\n",
    "x = np.log(Ns)\n",
    "y = np.log(fs)\n",
    "\n",
    "plt.scatter(x,y)\n",
    "res = stats.linregress(x, y)\n",
    "plt.xlabel(\"log(N)\")\n",
    "plt.ylabel(\"log(f)\")\n",
    "plt.plot(x, res.intercept + res.slope*x, 'r', label='fitted line')\n",
    "plt.grid()\n",
    "plt.title(\"Acceptance rate\")\n",
    "print(f\"Critical exponent p = {-res.slope:.6f}\")\n",
    "print(f\"A = {np.exp(res.intercept):.6f}\")\n",
    "print(f\"R-squared: {res.rvalue**2:.6f}\")"
   ]
  },
  {
   "cell_type": "code",
   "execution_count": null,
   "metadata": {},
   "outputs": [],
   "source": [
    "def polynomial(x,a,b):\n",
    "    return a*x**b\n",
    "poptω_squareds, pcovω_squareds = curve_fit(polynomial, Ns, mean_ω_squareds)\n",
    "poptS_squareds, pcovS_squareds = curve_fit(polynomial, Ns, mean_S_squareds)\n",
    "\n",
    "popt_autocorr_ω, pcov_autcorr_ω = curve_fit(polynomial, Ns, autocorr_time_ω_squareds)\n",
    "popt_autocorr_ω, pcov_autcorr_ω = curve_fit(polynomial, Ns, autocorr_time_ω_squareds)\n",
    "\n"
   ]
  },
  {
   "cell_type": "code",
   "execution_count": null,
   "metadata": {},
   "outputs": [],
   "source": [
    "plt.scatter(Ns,mean_ω_squareds)\n",
    "plt.xlabel(\"N\")\n",
    "plt.ylabel(r\"$\\langle \\omega^2 \\rangle$\")\n",
    "plt.plot(range(10000),polynomial(range(10000),poptω_squareds[0],poptω_squareds[1]), label=fr'A = {poptω_squareds[0]:.4f} = /n \\nu = {poptω_squareds[1]/2:.4f}')\n",
    "plt.grid()\n",
    "plt.title(\"Acceptance rate\")\n",
    "print(f\"Critical exponent \\nu = {poptω_squareds[1]/2:.4f}\")"
   ]
  },
  {
   "cell_type": "code",
   "execution_count": 13,
   "metadata": {},
   "outputs": [
    {
     "data": {
      "text/plain": [
       "array([    0.        ,   204.08163265,   408.16326531,   612.24489796,\n",
       "         816.32653061,  1020.40816327,  1224.48979592,  1428.57142857,\n",
       "        1632.65306122,  1836.73469388,  2040.81632653,  2244.89795918,\n",
       "        2448.97959184,  2653.06122449,  2857.14285714,  3061.2244898 ,\n",
       "        3265.30612245,  3469.3877551 ,  3673.46938776,  3877.55102041,\n",
       "        4081.63265306,  4285.71428571,  4489.79591837,  4693.87755102,\n",
       "        4897.95918367,  5102.04081633,  5306.12244898,  5510.20408163,\n",
       "        5714.28571429,  5918.36734694,  6122.44897959,  6326.53061224,\n",
       "        6530.6122449 ,  6734.69387755,  6938.7755102 ,  7142.85714286,\n",
       "        7346.93877551,  7551.02040816,  7755.10204082,  7959.18367347,\n",
       "        8163.26530612,  8367.34693878,  8571.42857143,  8775.51020408,\n",
       "        8979.59183673,  9183.67346939,  9387.75510204,  9591.83673469,\n",
       "        9795.91836735, 10000.        ])"
      ]
     },
     "execution_count": 13,
     "metadata": {},
     "output_type": "execute_result"
    }
   ],
   "source": [
    "np.linspace(0,10000)"
   ]
  },
  {
   "cell_type": "code",
   "execution_count": null,
   "metadata": {},
   "outputs": [],
   "source": []
  }
 ],
 "metadata": {
  "kernelspec": {
   "display_name": "Python 3",
   "language": "python",
   "name": "python3"
  },
  "language_info": {
   "codemirror_mode": {
    "name": "ipython",
    "version": 3
   },
   "file_extension": ".py",
   "mimetype": "text/x-python",
   "name": "python",
   "nbconvert_exporter": "python",
   "pygments_lexer": "ipython3",
   "version": "3.11.8"
  }
 },
 "nbformat": 4,
 "nbformat_minor": 2
}
