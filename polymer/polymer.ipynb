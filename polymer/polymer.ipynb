{
 "cells": [
  {
   "cell_type": "markdown",
   "metadata": {},
   "source": [
    "## Polymer Project: \n",
    "## Implementation of the pivot algorithm to simulate Self-avoiding-random walks\n",
    "\n",
    " Names: Mandus Aldag, Alexandros Mylanos"
   ]
  },
  {
   "cell_type": "code",
   "execution_count": 2,
   "metadata": {},
   "outputs": [],
   "source": [
    "import numpy as np\n",
    "import matplotlib.pyplot as plt\n",
    "from matplotlib.ticker import MultipleLocator\n",
    "import time\n",
    "from tqdm import tqdm\n"
   ]
  },
  {
   "cell_type": "code",
   "execution_count": 2,
   "metadata": {},
   "outputs": [],
   "source": [
    "def check_self_avoidance(coords, pivot = None):\n",
    "    # False = Self avoidant\n",
    "    # True = not Self avoidant\n",
    "\n",
    "    if pivot == None:\n",
    "        N = np.size(coords, axis=1)\n",
    "        hashset = set()\n",
    "        for i in range(N):\n",
    "            tmp_tuple = tuple(coords[:,i])\n",
    "            if tmp_tuple in hashset:\n",
    "                return True\n",
    "            else:\n",
    "                hashset.add(tmp_tuple)\n",
    "                \n",
    "        \n",
    "        return False\n",
    "    \n",
    "    else:\n",
    "        N = np.size(coords, axis=1)\n",
    "        if pivot >= N//2:\n",
    "            longer_site= pivot \n",
    "            shorter_site= N-pivot-1\n",
    "            dir = -1\n",
    "        else:\n",
    "            longer_site = N-pivot-1\n",
    "            shorter_site = pivot\n",
    "            dir = 1\n",
    "       \n",
    "        hashset=set()\n",
    "        for i in range(1,longer_site+1):\n",
    "            if i > shorter_site:   # Case when we scan only in the longer direction from the pivot because the short direction was already fully scanned\n",
    "                tmp_tuple = tuple(coords[:,pivot+i*dir])\n",
    "                if tmp_tuple in hashset:\n",
    "                    return True\n",
    "                else:\n",
    "                    hashset.add(tmp_tuple)\n",
    "            else: # Check in both directions of the pivot\n",
    "                tmp_tuple = tuple(coords[:,pivot+i])\n",
    "                if tmp_tuple in hashset:\n",
    "                    return True\n",
    "                else: \n",
    "                    hashset.add(tmp_tuple)\n",
    "                tmp_tuple = tuple(coords[:,pivot-i])\n",
    "                if tmp_tuple in hashset:\n",
    "                    return True\n",
    "                else: \n",
    "                    hashset.add(tmp_tuple)\n",
    "        return False\n",
    "                    "
   ]
  },
  {
   "cell_type": "code",
   "execution_count": 3,
   "metadata": {},
   "outputs": [],
   "source": [
    "def generate_random_walk(L):\n",
    "    coord = np.zeros((2,L),dtype=int)\n",
    "    for l in range(1,L):\n",
    "        direction = np.random.randint(0,4) # clock wise starting from the top\n",
    "        if direction == 0:\n",
    "            coord[0,l] = coord[0,l-1]\n",
    "            coord[1,l] = coord[1,l-1]+1 \n",
    "\n",
    "        elif  direction == 1:\n",
    "            coord[0,l] = coord[0,l-1]+1\n",
    "            coord[1,l] = coord[1,l-1]\n",
    "        \n",
    "        elif  direction == 2:\n",
    "            coord[0,l] = coord[0,l-1]\n",
    "            coord[1,l] = coord[1,l-1]-1\n",
    "\n",
    "        elif  direction == 3:\n",
    "            coord[0,l] = coord[0,l-1]-1\n",
    "            coord[1,l] =  coord[1,l-1]\n",
    "    \n",
    "    return coord\n",
    "        "
   ]
  },
  {
   "cell_type": "code",
   "execution_count": 4,
   "metadata": {},
   "outputs": [],
   "source": [
    "def initial_SAW(N: int): #Dimerisation\n",
    "    if N <= 5:\n",
    "        tmp = True\n",
    "        while tmp:\n",
    "            walk = generate_random_walk(N)\n",
    "            tmp = check_self_avoidance(walk)\n",
    "        return walk\n",
    "\n",
    "\n",
    "\n",
    "    else:\n",
    "        tmp = True\n",
    "        while tmp:\n",
    "            first = initial_SAW(N//2)\n",
    "            second = initial_SAW(N-N//2+1)\n",
    "            translated = (first[:,-1]+second.T).T\n",
    "            concatenated = np.concatenate((first,translated[:,1:]),axis=1)\n",
    "            tmp = check_self_avoidance(concatenated)\n",
    "\n",
    "        return concatenated\n"
   ]
  },
  {
   "cell_type": "code",
   "execution_count": 5,
   "metadata": {},
   "outputs": [],
   "source": [
    "def symmetry_op(coord):\n",
    "    N = np.size(coord,axis=1)\n",
    "    g = np.random.randint(0,7)\n",
    "    if g==0: #+90°(mathematically)\n",
    "        for i in range(N):\n",
    "            coord[:,i] = np.dot(np.array([[0,-1],[1,0]]), coord[:,i])\n",
    "    elif g==1: #-90°(mathematically)\n",
    "        for i in range(N):\n",
    "            coord[:,i] = np.dot(np.array([[0,1],[-1,0]]), coord[:,i])\n",
    "    elif g==2: #180°\n",
    "        for i in range(N):\n",
    "            coord[:,i] = np.dot(np.array([[-1,0],[0,-1]]), coord[:,i])\n",
    "    elif g==3: #x-axis symmetry\n",
    "        for i in range(N):\n",
    "            coord[:,i] = np.dot(np.array([[1,0],[0,-1]]), coord[:,i])\n",
    "    elif g==4: #y-axis symmetry\n",
    "        for i in range(N):\n",
    "            coord[:,i] = np.dot(np.array([[-1,0],[0,1]]), coord[:,i])\n",
    "    elif g==5: #diagonal reflection upperright-bottomleft\n",
    "        for i in range(N):\n",
    "            coord[:,i] = np.dot(np.array([[0,1],[1,0]]), coord[:,i])\n",
    "    elif g==6: #diagonal reflection upperleft-bottomright\n",
    "        for i in range(N):\n",
    "            coord[:,i] = np.dot(np.array([[0,-1],[-1,0]]), coord[:,i])\n",
    "    if debug:\n",
    "        print(\"g = \",g)\n",
    "    return coord, g\n",
    "    "
   ]
  },
  {
   "cell_type": "code",
   "execution_count": 6,
   "metadata": {},
   "outputs": [],
   "source": [
    "def pivot_step(coord):\n",
    "    global accepted\n",
    "    N = np.size(coord,axis=1)\n",
    "    pivot = np.random.randint(1,N)\n",
    "    if debug:\n",
    "        print(\"pivot = \",pivot)\n",
    "    to_be_operated = coord[:,pivot:]\n",
    "    to_be_operated = (to_be_operated.T-to_be_operated[:,0]).T\n",
    "    operated, g = symmetry_op(to_be_operated)\n",
    "    accepted[1,g] +=1\n",
    "    operated = (operated.T+coord[:,pivot]).T\n",
    "\n",
    "    coord_new = np.concatenate((coord[:,:pivot],operated),axis=1)\n",
    "    not_selfavoidant = check_self_avoidance(coord_new,pivot)\n",
    "    if not_selfavoidant:\n",
    "        if debug:\n",
    "            print(\"Not selfavoidant\")\n",
    "        return coord\n",
    "    else:\n",
    "        accepted[0,g] +=1\n",
    "        return coord_new\n"
   ]
  },
  {
   "cell_type": "code",
   "execution_count": 7,
   "metadata": {},
   "outputs": [],
   "source": [
    "def squared_end_to_end(coord):\n",
    "    return np.linalg.norm(coord[:,-1])**2\n",
    "\n",
    "def squared_gyration(coord):\n",
    "    N = np.size(coord,axis=1)\n",
    "    a = (1/N * np.sum(coord,axis=1))\n",
    "    inbracket = np.dot(a,a)\n",
    "    result = 0\n",
    "    for i in range(N):\n",
    "        result += np.dot(coord[:,i], coord[:,i])-inbracket\n",
    "    return 1/N * result"
   ]
  },
  {
   "cell_type": "code",
   "execution_count": 15,
   "metadata": {},
   "outputs": [],
   "source": [
    "def pivot_run(coord,iterations):\n",
    "    global accepted\n",
    "    ω_squared = []\n",
    "    S_squared = []\n",
    "    for i in tqdm(range(iterations)):\n",
    "        coord = pivot_step(coord)\n",
    "        ω_squared.append(squared_end_to_end(coord))\n",
    "        S_squared.append(squared_gyration(coord))\n",
    "    return ω_squared, S_squared, accepted"
   ]
  },
  {
   "cell_type": "code",
   "execution_count": 9,
   "metadata": {},
   "outputs": [],
   "source": [
    "def autocorrelation(timeseries, mean=None):\n",
    "    timeseries = np.array(timeseries)\n",
    "    if mean is None:\n",
    "        mean = timeseries.mean()\n",
    "    fluctuations = timeseries-mean\n",
    "\n",
    "    C = np.fft.ifft(np.fft.fft(fluctuations) * np.fft.ifft(fluctuations)).real\n",
    "    return C/C[0]\n",
    "\n",
    "def integrated_autocorrelation_time(timeseries, mean=None, until=None):\n",
    "    steps = len(timeseries)\n",
    "    if until is None:\n",
    "        until = steps // 2\n",
    "    Gamma = autocorrelation(timeseries, mean=mean)[:until]\n",
    "    try:\n",
    "        first_zero = np.where(Gamma <= 0)[0][0]\n",
    "        print(\"First zero = \",first_zero)\n",
    "        return 0.5 + Gamma[1:first_zero].sum()\n",
    "    except:\n",
    "        # Gamma never hits 0.  So the autocorrelation spans ~ the whole ensemble.\n",
    "        return steps # at least!"
   ]
  },
  {
   "cell_type": "code",
   "execution_count": 10,
   "metadata": {},
   "outputs": [],
   "source": [
    "def binning_analyis(data,kmax):\n",
    "    M = len(data)\n",
    "    error_est = []\n",
    "    for k in range(1,kmax+1):\n",
    "        M_k = M//k\n",
    "        X_k = np.mean(np.reshape(data[:M_k*k],(-1,k)).T,axis=0)\n",
    "        #print(len(X_k))\n",
    "        error_est.append(np.std(X_k)/np.sqrt(M_k))\n",
    "    τ = 0.5*((error_est[-1]/error_est[0])**2-1)\n",
    "    return error_est, int(np.ceil(τ))"
   ]
  },
  {
   "cell_type": "code",
   "execution_count": 22,
   "metadata": {},
   "outputs": [
    {
     "name": "stdout",
     "output_type": "stream",
     "text": [
      "pivot =  6\n",
      "g =  6\n",
      "45.00000000000001\n"
     ]
    },
    {
     "data": {
      "image/png": "[encoded data removed]",
      "text/plain": [
       "<Figure size 640x480 with 1 Axes>"
      ]
     },
     "metadata": {},
     "output_type": "display_data"
    }
   ],
   "source": [
    "test = initial_SAW(30)\n",
    "debug = 1\n",
    "plt.plot(test[0,:],test[1,:],linewidth=5,label=\"Original\")\n",
    "new = pivot_step(test)\n",
    "print(squared_end_to_end(new))\n",
    "plt.plot(new[0,:],new[1,:],label=\"New\")\n",
    "ax = plt.gca() \n",
    "ax.xaxis.set_major_locator(MultipleLocator(1))  # X ticks every 1 unit\n",
    "ax.yaxis.set_major_locator(MultipleLocator(1))\n",
    "plt.axis(\"equal\")\n",
    "plt.legend()\n",
    "plt.grid()\n",
    "plt.show()"
   ]
  },
  {
   "cell_type": "markdown",
   "metadata": {},
   "source": [
    "# Preliminary Tests"
   ]
  },
  {
   "cell_type": "code",
   "execution_count": null,
   "metadata": {},
   "outputs": [
    {
     "name": "stderr",
     "output_type": "stream",
     "text": [
      "100%|██████████| 10000000/10000000 [06:46<00:00, 24601.48it/s]\n"
     ]
    },
    {
     "name": "stdout",
     "output_type": "stream",
     "text": [
      "Mean squared end-to-end distance is: 47.233436 ± 0.009237335889542378\n",
      "Mean squared gyration radius is: 6.7823586875 ± 0.0007195143428142026\n",
      "Universal ratio is: 0.1435923206497194\n",
      "Acceptance rate f =  0.5809505\n"
     ]
    }
   ],
   "source": [
    "iterations = 10**7\n",
    "N=16\n",
    "coord = initial_SAW(N)\n",
    "accepted = np.zeros(7)\n",
    "debug = 0\n",
    "ω_squared, S_squared,f = pivot_run(coord,iterations)"
   ]
  },
  {
   "cell_type": "code",
   "execution_count": 17,
   "metadata": {},
   "outputs": [
    {
     "name": "stderr",
     "output_type": "stream",
     "text": [
      "100%|██████████| 10000000/10000000 [06:47<00:00, 24569.21it/s]"
     ]
    },
    {
     "name": "stdout",
     "output_type": "stream",
     "text": [
      "0.5810395\n"
     ]
    },
    {
     "name": "stderr",
     "output_type": "stream",
     "text": [
      "\n"
     ]
    }
   ],
   "source": [
    "np.random.seed(4321)\n",
    "iterations = 10**7\n",
    "N=16\n",
    "coord = initial_SAW(N)\n",
    "accepted = np.zeros((2,7))\n",
    "debug = 0\n",
    "ω_squared, S_squared, accepted = pivot_run(coord,iterations)\n",
    "f = np.sum(accepted[0,:])/np.sum(accepted[1,:])\n",
    "f_ops = accepted[0,:]/accepted[1,:]\n",
    "print(f)"
   ]
  },
  {
   "cell_type": "markdown",
   "metadata": {},
   "source": [
    "Error analysis and results:"
   ]
  },
  {
   "cell_type": "code",
   "execution_count": 18,
   "metadata": {},
   "outputs": [
    {
     "name": "stdout",
     "output_type": "stream",
     "text": [
      "Mean squared end-to-end distance is: 47.1933868 ± 0.026909941028947088\n",
      "Mean squared gyration radius is: 6.7844908109375 ± 0.00265304030574153\n",
      "Universal ratio is: 0.14375935424362254\n",
      "Acceptance rate f =  0.5810395\n",
      "Autocorrelation time ω^2=  4\n",
      "Autocorrelation time S^2=  7\n"
     ]
    }
   ],
   "source": [
    "error_ω_squared,τ_int_bin_ω_squared  = binning_analyis(ω_squared,300)\n",
    "error_S_squared,τ_int_bin_S_squared  = binning_analyis(S_squared,300)\n",
    "mean_ω_squared = np.mean(ω_squared)\n",
    "mean_S_squared = np.mean(S_squared)\n",
    "ur = mean_S_squared/mean_ω_squared\n",
    "\n",
    "\n",
    "print(f\"Mean squared end-to-end distance is: {mean_ω_squared} ± {error_ω_squared[-1]}\")\n",
    "print(f\"Mean squared gyration radius is: {mean_S_squared} ± {error_S_squared[-1]}\")\n",
    "print(f\"Universal ratio is: {ur}\")\n",
    "print(f\"Acceptance rate f = \",f)\n",
    "print(f\"Autocorrelation time ω^2= \",τ_int_bin_ω_squared)\n",
    "print(f\"Autocorrelation time S^2= \",τ_int_bin_S_squared )"
   ]
  },
  {
   "cell_type": "markdown",
   "metadata": {},
   "source": [
    "# N=20"
   ]
  },
  {
   "cell_type": "code",
   "execution_count": null,
   "metadata": {},
   "outputs": [
    {
     "name": "stderr",
     "output_type": "stream",
     "text": [
      "100%|██████████| 10000000/10000000 [08:27<00:00, 19709.15it/s]\n"
     ]
    }
   ],
   "source": [
    "np.random.seed(1234)\n",
    "iterations = 10**7\n",
    "N=21\n",
    "coord = initial_SAW(N)\n",
    "accepted = 0\n",
    "debug = 0\n",
    "ω_squared, S_squared,f = pivot_run(coord,iterations)"
   ]
  },
  {
   "cell_type": "code",
   "execution_count": 22,
   "metadata": {},
   "outputs": [
    {
     "name": "stderr",
     "output_type": "stream",
     "text": [
      "100%|██████████| 10000000/10000000 [08:17<00:00, 20112.65it/s]\n"
     ]
    },
    {
     "name": "stdout",
     "output_type": "stream",
     "text": [
      "0.5487302\n"
     ]
    }
   ],
   "source": [
    "np.random.seed(1234)\n",
    "iterations = 10**7\n",
    "N=21\n",
    "coord = initial_SAW(N)\n",
    "accepted = np.zeros((2,7))\n",
    "debug = 0\n",
    "ω_squared, S_squared, accepted = pivot_run(coord,iterations)\n",
    "f = np.sum(accepted[0,:])/np.sum(accepted[1,:])\n",
    "f_ops = accepted[0,:]/accepted[1,:]\n",
    "print(f)"
   ]
  },
  {
   "cell_type": "code",
   "execution_count": null,
   "metadata": {},
   "outputs": [
    {
     "name": "stdout",
     "output_type": "stream",
     "text": [
      "Mean squared end-to-end distance is: 72.0007204 ± 0.04412505568238656\n",
      "Mean squared gyration radius is: 10.239910732426322 ± 0.004485764343457121\n",
      "Universal ratio is: 0.14221955940910727\n",
      "Acceptance rate f =  0.5487302\n",
      "Autocorrelation time ω^2=  5\n",
      "Autocorrelation time S^2=  8\n"
     ]
    }
   ],
   "source": [
    "\n",
    "error_ω_squared,τ_int_bin_ω_squared  = binning_analyis(ω_squared,300)\n",
    "error_S_squared,τ_int_bin_S_squared  = binning_analyis(S_squared,300)\n",
    "mean_ω_squared = np.mean(ω_squared)\n",
    "mean_S_squared = np.mean(S_squared)\n",
    "ur = mean_S_squared/mean_ω_squared\n",
    "\n",
    "print(f\"Mean squared end-to-end distance is: {mean_ω_squared} ± {error_ω_squared[-1]}\")\n",
    "print(f\"Mean squared gyration radius is: {mean_S_squared} ± {error_S_squared[-1]}\")\n",
    "print(f\"Universal ratio is: {ur}\")\n",
    "print(f\"Acceptance rate f = \",f)\n",
    "print(f\"Autocorrelation time ω^2= \",τ_int_bin_ω_squared)\n",
    "print(f\"Autocorrelation time S^2= \",τ_int_bin_S_squared )"
   ]
  },
  {
   "cell_type": "code",
   "execution_count": 25,
   "metadata": {},
   "outputs": [
    {
     "data": {
      "text/plain": [
       "<matplotlib.collections.PathCollection at 0x788ed80075c0>"
      ]
     },
     "execution_count": 25,
     "metadata": {},
     "output_type": "execute_result"
    },
    {
     "data": {
      "image/png": "[encoded data removed]",
      "text/plain": [
       "<Figure size 640x480 with 1 Axes>"
      ]
     },
     "metadata": {},
     "output_type": "display_data"
    }
   ],
   "source": [
    "plt.scatter(range(300),error_S_squared)"
   ]
  },
  {
   "cell_type": "code",
   "execution_count": null,
   "metadata": {},
   "outputs": [
    {
     "name": "stdout",
     "output_type": "stream",
     "text": [
      "Dimerization time: 615.6446738243103\n"
     ]
    },
    {
     "name": "stderr",
     "output_type": "stream",
     "text": [
      "100%|██████████| 1000000/1000000 [27:12<00:00, 612.63it/s]\n"
     ]
    }
   ],
   "source": [
    "np.random.seed(43210)\n",
    "iterations = 10**6\n",
    "N=1001\n",
    "start = time.time()\n",
    "coord = initial_SAW(N)\n",
    "end = time.time()\n",
    "print(\"Dimerization time:\", end - start)\n",
    "ω_squared, S_squared,f = pivot_run(coord,iterations)\n"
   ]
  },
  {
   "cell_type": "code",
   "execution_count": 124,
   "metadata": {},
   "outputs": [
    {
     "name": "stdout",
     "output_type": "stream",
     "text": [
      "Mean squared end-to-end distance is: 24433.16705416473 ± 88.26524734891058\n",
      "Mean squared gyration radius is: 3424.6538098759547 ± 10.090815030068034\n",
      "Universal ratio is: 0.14016413845507633\n",
      "Acceptance rate f =  0.253896\n"
     ]
    }
   ],
   "source": [
    "error_ω_squared,τ_int_bin_ω_squared  = binning_analyis(ω_squared,500)\n",
    "error_S_squared,τ_int_bin_S_squared  = binning_analyis(S_squared,500)\n",
    "uncorrelated_ω_squared = ω_squared[::τ_int_bin_ω_squared]\n",
    "uncorrelated_S_squared = S_squared[::τ_int_bin_S_squared]\n",
    "mean_ω_squared = np.mean(uncorrelated_ω_squared)\n",
    "mean_S_squared = np.mean(uncorrelated_S_squared)\n",
    "ur = mean_S_squared/mean_ω_squared\n",
    "\n",
    "\n",
    "print(f\"Mean squared end-to-end distance is: {mean_ω_squared} ± {error_ω_squared[-1]}\")\n",
    "print(f\"Mean squared gyration radius is: {mean_S_squared} ± {error_S_squared[-1]}\")\n",
    "print(f\"Universal ratio is: {ur}\")\n",
    "print(f\"Acceptance rate f = \",f)"
   ]
  },
  {
   "cell_type": "code",
   "execution_count": null,
   "metadata": {},
   "outputs": [
    {
     "data": {
      "text/plain": [
       "<matplotlib.collections.PathCollection at 0x7dc778c70ec0>"
      ]
     },
     "execution_count": 125,
     "metadata": {},
     "output_type": "execute_result"
    },
    {
     "data": {
      "image/png": "[encoded data removed]",
      "text/plain": [
       "<Figure size 640x480 with 1 Axes>"
      ]
     },
     "metadata": {},
     "output_type": "display_data"
    }
   ],
   "source": [
    "plt.scatter(range(500),error_ω_squared)\n",
    "plt.scatter(range(500),error_S_squared)"
   ]
  },
  {
   "cell_type": "code",
   "execution_count": null,
   "metadata": {},
   "outputs": [],
   "source": [
    "#Ns = [101,201,401,601,801,1001,1201,1401,1601,2001,2401,3001,4001]\n",
    "#seeds = np.arrayarray([2781300983, 552437507, 239163331, 1112836520, 1562221245, 4039863786,  930428319, 4185896816, 2716273418, 4265127893, 432287740, 2672218962, 3546297565])\n",
    "Ns = [16,21]\n",
    "seeds = np.array([2790077416, 1086981728])\n",
    "iterations = 10**6\n",
    "binning_max = 200\n",
    "times = np.zeros((2,len(Ns)))\n",
    "ω_squareds = np.zeros((len(Ns),iterations))\n",
    "S_squareds = np.zeros((len(Ns),iterations))\n",
    "error_ω_squareds = np.zeros((len(Ns),binning_max))\n",
    "error_S_squareds = np.zeros((len(Ns),binning_max))\n",
    "autocorr_time_ω_squareds = np.zeros(len(Ns))\n",
    "autocorr_time_S_squareds = np.zeros(len(Ns))\n",
    "debug = 0\n",
    "\n",
    "for i,N in enumerate(Ns):\n",
    "    np.random.seed(seeds[i])\n",
    "    accepted = np.zeros((2,7))\n",
    "    start = time.time()\n",
    "    coord = initial_SAW(N)\n",
    "    end = time.time()\n",
    "    ω_squared, S_squared, accepted = pivot_run(coord,iterations)\n",
    "    end_total = time.time()\n",
    "    ω_squareds[i,:] = ω_squared\n",
    "    S_squareds[i,:] = S_squared\n",
    "\n",
    "    times[0,i] = end-start\n",
    "    times[1,i] = end_total-start\n",
    "\n",
    "    np.save(f\"accepted{N}.npy\",accepted)\n",
    "\n",
    "    error_ω_squared, autocorr_time_ω_squared = binning_analyis(ω_squared,binning_max)\n",
    "    error_S_squared, autocorr_time_S_squared = binning_analyis(S_squared,binning_max)\n",
    "    error_ω_squareds[i,:] = error_ω_squared\n",
    "    error_S_squareds[i,:] = error_S_squared\n",
    "    autocorr_time_ω_squareds[i] = autocorr_time_ω_squared\n",
    "    autocorr_time_S_squareds[i] = autocorr_time_S_squared\n",
    "    \n",
    "\n",
    "    plt.xlabel(\"Binning level\")\n",
    "    plt.ylabel(\"Error\")\n",
    "    plt.grid()\n",
    "    plt.scatter(range(binning_max),error_ω_squared,label=\"Squared end-to-end distance\")\n",
    "    plt.scatter(range(binning_max),error_S_squared,label=\"Squared radius of gyration\")\n",
    "    plt.legend()\n",
    "    plt.savefig(f\"Binning_analysis{N}.png\")\n",
    "    plt.close()\n",
    "\n",
    "\n",
    "np.save(\"ω_squareds.npy\",ω_squareds)\n",
    "np.save(\"S_squareds.npy\",S_squareds)\n",
    "np.save(\"times.npy\",times)\n",
    "np.save(\"error_ω_squareds.npy\",error_ω_squareds)\n",
    "np.save(\"error_S_squareds.npy\",error_S_squareds)\n",
    "np.save(\"autocorr_time_ω_squared.npy\",autocorr_time_ω_squareds)\n",
    "np.save(\"autocorr_time_S_squared.npy\",autocorr_time_S_squareds)\n",
    "\n"
   ]
  },
  {
   "cell_type": "markdown",
   "metadata": {},
   "source": [
    "# Results and Analysis"
   ]
  },
  {
   "cell_type": "code",
   "execution_count": null,
   "metadata": {},
   "outputs": [
    {
     "name": "stdout",
     "output_type": "stream",
     "text": [
      "Results for N = 16:\n",
      "Mean squared end-to-end distance is: 47.210728 ± 0.084433093926512\n",
      "Mean squared gyration radius is: 6.78256284375 ± 0.00834575209869938\n",
      "Universal ratio ur = 0.14366571182189777\n",
      "Acceptance rate f =  0.580675\n",
      "Autocorrelation time ω^2 =  3.672408508017721\n",
      "Autocorrelation time S^2 =  6.213121795627411\n",
      "Total simulation time [s] = 39.996598958969116\n",
      "From that: dimerisation time [s] = 0.00040650367736816406\n",
      "\n",
      "Results for N = 21:\n",
      "Mean squared end-to-end distance is: 72.297648 ± 0.13998125082174112\n",
      "Mean squared gyration radius is: 10.276109328798187 ± 0.014177795476413074\n",
      "Universal ratio ur = 0.14213614983433745\n",
      "Acceptance rate f =  0.549894\n",
      "Autocorrelation time ω^2 =  4.225770024443232\n",
      "Autocorrelation time S^2 =  7.483148686884459\n",
      "Total simulation time [s] = 49.98452544212341\n",
      "From that: dimerisation time [s] = 0.00025177001953125\n",
      "\n"
     ]
    }
   ],
   "source": [
    "Ns = [101,201,401,601,801,1001,1201,1401,1601,2001,2401,3001,4001]\n",
    "ω_squareds = np.load(\"results/ω_squareds.npy\")\n",
    "S_squareds = np.load(\"results/S_squareds.npy\")\n",
    "error_ω_squareds = np.load(\"results/error_ω_squareds.npy\")\n",
    "error_S_squareds = np.load(\"results/error_S_squareds.npy\")\n",
    "autocorr_time_ω_squareds=np.load(\"results/autocorr_time_ω_squared.npy\")\n",
    "autocorr_time_S_squareds=np.load(\"results/autocorr_time_S_squared.npy\")\n",
    "times = np.load(\"results/times.npy\")\n",
    "\n",
    "for i,N in enumerate(Ns):\n",
    "    ω_squared = ω_squareds[i,:]\n",
    "    S_squared = S_squareds[i,:]\n",
    "    error_ω_squared = error_ω_squareds[i,:]\n",
    "    error_S_squared = error_S_squareds[i,:]\n",
    "    autocorr_time_ω_squared = autocorr_time_ω_squareds[i]\n",
    "    autocorr_time_S_squared = autocorr_time_S_squareds[i]\n",
    "\n",
    "    mean_ω_squared = np.mean(ω_squared)\n",
    "    mean_S_squared = np.mean(S_squared)\n",
    "    ur = mean_S_squared/mean_ω_squared\n",
    "    accepted = np.load(f\"results/accepted{N}.npy\")\n",
    "    f = np.sum(accepted[0,:])/np.sum(accepted[1,:])\n",
    "    \n",
    "\n",
    "\n",
    "    print(f\"Results for N = {N}:\")\n",
    "    print(f\"Mean squared end-to-end distance is: {mean_ω_squared} ± {error_ω_squared[-1]}\")\n",
    "    print(f\"Mean squared gyration radius is: {mean_S_squared} ± {error_S_squared[-1]}\")\n",
    "    print(f\"Universal ratio ur = {ur}\")\n",
    "    print(f\"Acceptance rate f = \",f)\n",
    "    print(f\"Autocorrelation time ω^2 = \",autocorr_time_ω_squared)\n",
    "    print(f\"Autocorrelation time S^2 = \",autocorr_time_S_squared )\n",
    "    print(f\"Total simulation time [s] = {times[1,i]}\")\n",
    "    print(f\"From that: Simerisation time [s] = {times[0,i]}\")\n",
    "    print()\n",
    "          "
   ]
  },
  {
   "cell_type": "code",
   "execution_count": null,
   "metadata": {},
   "outputs": [],
   "source": []
  }
 ],
 "metadata": {
  "kernelspec": {
   "display_name": "Python 3",
   "language": "python",
   "name": "python3"
  },
  "language_info": {
   "codemirror_mode": {
    "name": "ipython",
    "version": 3
   },
   "file_extension": ".py",
   "mimetype": "text/x-python",
   "name": "python",
   "nbconvert_exporter": "python",
   "pygments_lexer": "ipython3",
   "version": "3.12.3"
  }
 },
 "nbformat": 4,
 "nbformat_minor": 2
}
