{
 "cells": [
  {
   "cell_type": "markdown",
   "metadata": {},
   "source": [
    "## Polymer Project: \n",
    "## Implementation of the pivot algorithm to simulate Self-avoiding-random walks\n",
    "\n",
    " Names: Mandus Aldag, Alexandros Mylanos"
   ]
  },
  {
   "cell_type": "code",
   "execution_count": 1,
   "metadata": {},
   "outputs": [],
   "source": [
    "import numpy as np\n",
    "import matplotlib.pyplot as plt"
   ]
  },
  {
   "cell_type": "code",
   "execution_count": null,
   "metadata": {},
   "outputs": [],
   "source": [
    "def check_self_avoidance(coords, pivot = None):\n",
    "    if pivot == None:\n",
    "        N = np.size(coords, axis=1)\n",
    "        hashset = set()\n",
    "        for i in range(N):\n",
    "            tmp_tuple = tuple(coords[:,i])\n",
    "            if tmp_tuple in hashset:\n",
    "                return True\n",
    "            else:\n",
    "                hashset.add(tmp_tuple)\n",
    "                \n",
    "        \n",
    "        return False\n",
    "    \n",
    "    else:\n",
    "        N = np.size(coords, axis=1)\n",
    "        current = pivot\n",
    "        hashset = set()\n",
    "        i=1\n",
    "        while current >= 0 or current < N:\n",
    "           tmp_tuple = tuple(coords[:,current+i])\n",
    "           if tmp_tuple in hashset:\n",
    "                return True\n",
    "           else:\n",
    "               hashset.add(tmp_tuple)  \n",
    "            \n",
    "            \n",
    "            \n",
    "            tmp_tuple = tuple(coords[:,current+i])\n",
    "           if tmp_tuple in hashset:\n",
    "                return True\n",
    "           else:\n",
    "                hashset.add(tmp_tuple)\n",
    "            \n",
    "\n",
    "\n",
    "\n",
    "    "
   ]
  },
  {
   "cell_type": "code",
   "execution_count": 3,
   "metadata": {},
   "outputs": [],
   "source": [
    "def generate_random_walk(L):\n",
    "    coord = np.zeros((2,L),dtype=int)\n",
    "    for l in range(1,L):\n",
    "        direction = np.random.randint(0,4) # clock wise starting from the top\n",
    "        if direction == 0:\n",
    "            coord[0,l] = coord[0,l-1]\n",
    "            coord[1,l] = coord[1,l-1]+1 \n",
    "\n",
    "        elif  direction == 1:\n",
    "            coord[0,l] = coord[0,l-1]+1\n",
    "            coord[1,l] = coord[1,l-1]\n",
    "        \n",
    "        elif  direction == 2:\n",
    "            coord[0,l] = coord[0,l-1]\n",
    "            coord[1,l] = coord[1,l-1]-1\n",
    "\n",
    "        elif  direction == 3:\n",
    "            coord[0,l] = coord[0,l-1]-1\n",
    "            coord[1,l] =  coord[1,l-1]\n",
    "    \n",
    "    return coord\n",
    "        "
   ]
  },
  {
   "cell_type": "code",
   "execution_count": 4,
   "metadata": {},
   "outputs": [],
   "source": [
    "def initial_SAW(N: int): #Dimerisation\n",
    "    if N <= 5:\n",
    "        tmp = True\n",
    "        while tmp:\n",
    "            walk = generate_random_walk(N)\n",
    "            tmp = check_self_avoidance(walk)\n",
    "        return walk\n",
    "\n",
    "\n",
    "\n",
    "    else:\n",
    "        tmp = True\n",
    "        while tmp:\n",
    "            first = initial_SAW(N//2)\n",
    "            second = initial_SAW(N-N//2+1)\n",
    "            translated = (first[:,-1]+second.T).T\n",
    "            concatenated = np.concatenate((first,translated[:,1:]),axis=1)\n",
    "            tmp = check_self_avoidance(concatenated)\n",
    "\n",
    "        return concatenated\n"
   ]
  },
  {
   "cell_type": "code",
   "execution_count": null,
   "metadata": {},
   "outputs": [],
   "source": []
  },
  {
   "cell_type": "code",
   "execution_count": 30,
   "metadata": {},
   "outputs": [],
   "source": [
    "def pivot_point(coord):\n",
    "    N = np.size(coord,axis=1)\n",
    "    return np.random.randint(1,N)\n",
    "\n",
    "def symmetry_op(coord):\n",
    "    N = np.size(coord,axis=1)\n",
    "    g = np.random.randint(0,7)\n",
    "    if g==0: #+90°(mathematically)\n",
    "        for i in range(N):\n",
    "            coord[:,i] = np.dot(np.array([[0,-1],[1,0]]), coord[:,i])\n",
    "    elif g==1: #-90°(mathematically)\n",
    "        for i in range(N):\n",
    "            coord[:,i] = np.dot(np.array([[0,1],[-1,0]]), coord[:,i])\n",
    "    elif g==2: #180°\n",
    "        for i in range(N):\n",
    "            coord[:,i] = np.dot(np.array([[-1,0],[0,-1]]), coord[:,i])\n",
    "    elif g==3: #x-axis symmetry\n",
    "        for i in range(N):\n",
    "            coord[:,i] = np.dot(np.array([[1,0],[0,-1]]), coord[:,i])\n",
    "    elif g==4: #y-axis symmetry\n",
    "        for i in range(N):\n",
    "            coord[:,i] = np.dot(np.array([[-1,0],[0,1]]), coord[:,i])\n",
    "    elif g==5: #diagonal reflection upperright-bottomleft\n",
    "        for i in range(N):\n",
    "            coord[:,i] = np.dot(np.array([[0,1],[1,0]]), coord[:,i])\n",
    "    elif g==6: #diagonal reflection upperleft-bottomright\n",
    "        for i in range(N):\n",
    "            coord[:,i] = np.dot(np.array([[0,-1],[-1,0]]), coord[:,i])\n",
    "    print(\"g = \",g)\n",
    "    return coord\n",
    "    "
   ]
  },
  {
   "cell_type": "code",
   "execution_count": 31,
   "metadata": {},
   "outputs": [],
   "source": [
    "def pivot_step(coord):\n",
    "    N = np.size(coord,axis=1)\n",
    "    \n",
    "\n",
    "    pivot = np.random.randint(1,N)\n",
    "    print(\"pivot = \",pivot)\n",
    "    to_be_operated = coord[:,pivot:]\n",
    "    to_be_operated = (to_be_operated.T-to_be_operated[:,0]).T\n",
    "    operated = symmetry_op(to_be_operated)\n",
    "    operated = (operated.T+coord[:,pivot]).T\n",
    "\n",
    "    coord_new = np.concatenate((coord[:,:pivot],operated),axis=1)\n",
    "\n",
    "    return coord_new\n"
   ]
  },
  {
   "cell_type": "code",
   "execution_count": 43,
   "metadata": {},
   "outputs": [
    {
     "name": "stdout",
     "output_type": "stream",
     "text": [
      "pivot =  4\n",
      "g =  6\n"
     ]
    },
    {
     "data": {
      "image/png": "[encoded data removed]",
      "text/plain": [
       "<Figure size 640x480 with 1 Axes>"
      ]
     },
     "metadata": {},
     "output_type": "display_data"
    }
   ],
   "source": [
    "test = initial_SAW(10)\n",
    "plt.plot(test[0,:],test[1,:],linestyle=\"dotted\",linewidth=5)\n",
    "new= pivot_step(test)\n",
    "plt.plot(new[0,:],new[1,:])\n",
    "plt.grid()\n",
    "plt.xticks()\n",
    "plt.show()"
   ]
  },
  {
   "cell_type": "code",
   "execution_count": 111,
   "metadata": {},
   "outputs": [
    {
     "name": "stdout",
     "output_type": "stream",
     "text": [
      "[[   0    0    0 ...   27   28   28]\n",
      " [   0   -1   -2 ... -160 -160 -159]]\n",
      "1000\n"
     ]
    },
    {
     "data": {
      "text/plain": [
       "False"
      ]
     },
     "execution_count": 111,
     "metadata": {},
     "output_type": "execute_result"
    }
   ],
   "source": [
    "test = initial_SAW(1000)\n",
    "print(test)\n",
    "print(np.size(test,axis=1))\n",
    "check_self_avoidance(test)"
   ]
  },
  {
   "cell_type": "code",
   "execution_count": 112,
   "metadata": {},
   "outputs": [
    {
     "data": {
      "image/png": "[encoded data removed]",
      "text/plain": [
       "<Figure size 640x480 with 1 Axes>"
      ]
     },
     "metadata": {},
     "output_type": "display_data"
    }
   ],
   "source": [
    "plt.plot(test[0,:],test[1,:])\n",
    "plt.show()"
   ]
  },
  {
   "cell_type": "code",
   "execution_count": null,
   "metadata": {},
   "outputs": [],
   "source": []
  }
 ],
 "metadata": {
  "kernelspec": {
   "display_name": "Python 3",
   "language": "python",
   "name": "python3"
  },
  "language_info": {
   "codemirror_mode": {
    "name": "ipython",
    "version": 3
   },
   "file_extension": ".py",
   "mimetype": "text/x-python",
   "name": "python",
   "nbconvert_exporter": "python",
   "pygments_lexer": "ipython3",
   "version": "3.12.3"
  }
 },
 "nbformat": 4,
 "nbformat_minor": 2
}
