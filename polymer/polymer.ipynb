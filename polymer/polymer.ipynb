{
 "cells": [
  {
   "cell_type": "markdown",
   "metadata": {},
   "source": [
    "## Polymer Project: \n",
    "## Implementation of the pivot algorithm to simulate Self-avoiding-random walks\n",
    "\n",
    " Names: Mandus Aldag, Alexandros Mylanos"
   ]
  },
  {
   "cell_type": "code",
   "execution_count": 185,
   "metadata": {},
   "outputs": [],
   "source": [
    "import numpy as np\n",
    "import matplotlib.pyplot as plt\n",
    "from matplotlib.ticker import MultipleLocator\n",
    "import time\n",
    "from tqdm import tqdm\n"
   ]
  },
  {
   "cell_type": "code",
   "execution_count": 2,
   "metadata": {},
   "outputs": [],
   "source": [
    "def check_self_avoidance(coords, pivot = None):\n",
    "    # False = Self avoidant\n",
    "    # True = not Self avoidant\n",
    "\n",
    "    if pivot == None:\n",
    "        N = np.size(coords, axis=1)\n",
    "        hashset = set()\n",
    "        for i in range(N):\n",
    "            tmp_tuple = tuple(coords[:,i])\n",
    "            if tmp_tuple in hashset:\n",
    "                return True\n",
    "            else:\n",
    "                hashset.add(tmp_tuple)\n",
    "                \n",
    "        \n",
    "        return False\n",
    "    \n",
    "    else:\n",
    "        N = np.size(coords, axis=1)\n",
    "        if pivot >= N//2:\n",
    "            longer_site= pivot \n",
    "            shorter_site= N-pivot-1\n",
    "            dir = -1\n",
    "        else:\n",
    "            longer_site = N-pivot-1\n",
    "            shorter_site = pivot\n",
    "            dir = 1\n",
    "       \n",
    "        hashset=set()\n",
    "        for i in range(1,longer_site+1):\n",
    "            if i > shorter_site:   # Case when we scan only in the longer direction from thepivot because the short direction was already fully scanned\n",
    "                tmp_tuple = tuple(coords[:,pivot+i*dir])\n",
    "                if tmp_tuple in hashset:\n",
    "                    return True\n",
    "                else:\n",
    "                    hashset.add(tmp_tuple)\n",
    "            else: # Check in both directions of the pivot\n",
    "                tmp_tuple = tuple(coords[:,pivot+i])\n",
    "                if tmp_tuple in hashset:\n",
    "                    return True\n",
    "                else: \n",
    "                    hashset.add(tmp_tuple)\n",
    "                tmp_tuple = tuple(coords[:,pivot-i])\n",
    "                if tmp_tuple in hashset:\n",
    "                    return True\n",
    "                else: \n",
    "                    hashset.add(tmp_tuple)\n",
    "        return False\n",
    "                    "
   ]
  },
  {
   "cell_type": "code",
   "execution_count": 3,
   "metadata": {},
   "outputs": [],
   "source": [
    "def generate_random_walk(L):\n",
    "    coord = np.zeros((2,L),dtype=int)\n",
    "    for l in range(1,L):\n",
    "        direction = np.random.randint(0,4) # clock wise starting from the top\n",
    "        if direction == 0:\n",
    "            coord[0,l] = coord[0,l-1]\n",
    "            coord[1,l] = coord[1,l-1]+1 \n",
    "\n",
    "        elif  direction == 1:\n",
    "            coord[0,l] = coord[0,l-1]+1\n",
    "            coord[1,l] = coord[1,l-1]\n",
    "        \n",
    "        elif  direction == 2:\n",
    "            coord[0,l] = coord[0,l-1]\n",
    "            coord[1,l] = coord[1,l-1]-1\n",
    "\n",
    "        elif  direction == 3:\n",
    "            coord[0,l] = coord[0,l-1]-1\n",
    "            coord[1,l] =  coord[1,l-1]\n",
    "    \n",
    "    return coord\n",
    "        "
   ]
  },
  {
   "cell_type": "code",
   "execution_count": 4,
   "metadata": {},
   "outputs": [],
   "source": [
    "def initial_SAW(N: int): #Dimerisation\n",
    "    if N <= 5:\n",
    "        tmp = True\n",
    "        while tmp:\n",
    "            walk = generate_random_walk(N)\n",
    "            tmp = check_self_avoidance(walk)\n",
    "        return walk\n",
    "\n",
    "\n",
    "\n",
    "    else:\n",
    "        tmp = True\n",
    "        while tmp:\n",
    "            first = initial_SAW(N//2)\n",
    "            second = initial_SAW(N-N//2+1)\n",
    "            translated = (first[:,-1]+second.T).T\n",
    "            concatenated = np.concatenate((first,translated[:,1:]),axis=1)\n",
    "            tmp = check_self_avoidance(concatenated)\n",
    "\n",
    "        return concatenated\n"
   ]
  },
  {
   "cell_type": "code",
   "execution_count": 131,
   "metadata": {},
   "outputs": [],
   "source": [
    "def pivot_point(coord):\n",
    "    N = np.size(coord,axis=1)\n",
    "    return np.random.randint(1,N)\n",
    "\n",
    "def symmetry_op(coord):\n",
    "    N = np.size(coord,axis=1)\n",
    "    g = np.random.randint(0,7)\n",
    "    if g==0: #+90°(mathematically)\n",
    "        for i in range(N):\n",
    "            coord[:,i] = np.dot(np.array([[0,-1],[1,0]]), coord[:,i])\n",
    "    elif g==1: #-90°(mathematically)\n",
    "        for i in range(N):\n",
    "            coord[:,i] = np.dot(np.array([[0,1],[-1,0]]), coord[:,i])\n",
    "    elif g==2: #180°\n",
    "        for i in range(N):\n",
    "            coord[:,i] = np.dot(np.array([[-1,0],[0,-1]]), coord[:,i])\n",
    "    elif g==3: #x-axis symmetry\n",
    "        for i in range(N):\n",
    "            coord[:,i] = np.dot(np.array([[1,0],[0,-1]]), coord[:,i])\n",
    "    elif g==4: #y-axis symmetry\n",
    "        for i in range(N):\n",
    "            coord[:,i] = np.dot(np.array([[-1,0],[0,1]]), coord[:,i])\n",
    "    elif g==5: #diagonal reflection upperright-bottomleft\n",
    "        for i in range(N):\n",
    "            coord[:,i] = np.dot(np.array([[0,1],[1,0]]), coord[:,i])\n",
    "    elif g==6: #diagonal reflection upperleft-bottomright\n",
    "        for i in range(N):\n",
    "            coord[:,i] = np.dot(np.array([[0,-1],[-1,0]]), coord[:,i])\n",
    "    #print(\"g = \",g)\n",
    "    return coord\n",
    "    "
   ]
  },
  {
   "cell_type": "code",
   "execution_count": 182,
   "metadata": {},
   "outputs": [],
   "source": [
    "def pivot_step(coord):\n",
    "    global accepted\n",
    "    N = np.size(coord,axis=1)\n",
    "    pivot = np.random.randint(1,N-1)\n",
    "    #print(\"pivot = \",pivot)\n",
    "    to_be_operated = coord[:,pivot:]\n",
    "    to_be_operated = (to_be_operated.T-to_be_operated[:,0]).T\n",
    "    operated = symmetry_op(to_be_operated)\n",
    "    operated = (operated.T+coord[:,pivot]).T\n",
    "\n",
    "    coord_new = np.concatenate((coord[:,:pivot],operated),axis=1)\n",
    "    not_selfavoidant = check_self_avoidance(coord_new,pivot)\n",
    "    if not_selfavoidant:\n",
    "        #print(\"Not selfavoidant\")\n",
    "        return coord\n",
    "    else:\n",
    "        accepted +=1\n",
    "        return coord_new\n"
   ]
  },
  {
   "cell_type": "code",
   "execution_count": 7,
   "metadata": {},
   "outputs": [],
   "source": [
    "def squared_end_to_end(coord):\n",
    "    return np.linalg.norm(coord[:,-1])**2\n",
    "\n",
    "def squared_gyration(coord):\n",
    "    N = np.size(coord,axis=1)\n",
    "    a = (1/N * np.sum(coord,axis=1))\n",
    "    inbracket = np.dot(a,a)\n",
    "    result = 0\n",
    "    for i in range(N):\n",
    "        result += np.dot(coord[:,i], coord[:,i])-inbracket\n",
    "    return 1/N * result"
   ]
  },
  {
   "cell_type": "code",
   "execution_count": null,
   "metadata": {},
   "outputs": [],
   "source": [
    "def pivot_run(coord,iterations):\n",
    "    global accepted\n",
    "    accepted = 0\n",
    "    ω_squared = []\n",
    "    S_squared = []\n",
    "    for i in tqdm(range(iterations)):\n",
    "        coord = pivot_step(coord)\n",
    "        ω_squared.append(squared_end_to_end(coord))\n",
    "        S_squared.append(squared_gyration(coord))\n",
    "    return ω_squared, S_squared, accepted/iterations"
   ]
  },
  {
   "cell_type": "code",
   "execution_count": 15,
   "metadata": {},
   "outputs": [],
   "source": [
    "def autocorrelation(timeseries, mean=None):\n",
    "    timeseries = np.array(timeseries)\n",
    "    if mean is None:\n",
    "        mean = timeseries.mean()\n",
    "    fluctuations = timeseries-mean\n",
    "\n",
    "    C = np.fft.ifft(np.fft.fft(fluctuations) * np.fft.ifft(fluctuations)).real\n",
    "    return C/C[0]\n",
    "\n",
    "def integrated_autocorrelation_time(timeseries, mean=None, until=None):\n",
    "    steps = len(timeseries)\n",
    "    if until is None:\n",
    "        until = steps // 2\n",
    "    Gamma = autocorrelation(timeseries, mean=mean)[:until]\n",
    "    try:\n",
    "        first_zero = np.where(Gamma <= 0)[0][0]\n",
    "        return 0.5 + Gamma[1:first_zero].sum()\n",
    "    except:\n",
    "        # Gamma never hits 0.  So the autocorrelation spans ~ the whole ensemble.\n",
    "        return steps # at least!"
   ]
  },
  {
   "cell_type": "code",
   "execution_count": 195,
   "metadata": {},
   "outputs": [
    {
     "name": "stdout",
     "output_type": "stream",
     "text": [
      "17.0\n"
     ]
    },
    {
     "data": {
      "image/png": "[encoded data removed]",
      "text/plain": [
       "<Figure size 640x480 with 1 Axes>"
      ]
     },
     "metadata": {},
     "output_type": "display_data"
    }
   ],
   "source": [
    "test = initial_SAW(30)\n",
    "plt.plot(test[0,:],test[1,:],linewidth=5,label=\"Original\")\n",
    "new = pivot_step(test)\n",
    "print(squared_end_to_end(new))\n",
    "plt.plot(new[0,:],new[1,:],label=\"New\")\n",
    "ax = plt.gca() \n",
    "ax.xaxis.set_major_locator(MultipleLocator(1))  # X ticks every 1 unit\n",
    "ax.yaxis.set_major_locator(MultipleLocator(1))\n",
    "plt.axis(\"equal\")\n",
    "plt.legend()\n",
    "plt.grid()\n",
    "plt.show()"
   ]
  },
  {
   "cell_type": "markdown",
   "metadata": {},
   "source": [
    "# Preliminary Tests"
   ]
  },
  {
   "cell_type": "code",
   "execution_count": 183,
   "metadata": {},
   "outputs": [
    {
     "name": "stderr",
     "output_type": "stream",
     "text": [
      "100%|██████████| 1000000/1000000 [00:39<00:00, 25313.62it/s]\n"
     ]
    },
    {
     "name": "stdout",
     "output_type": "stream",
     "text": [
      "Mean squared end-to-end distance is: 42.834144 ± 26.274475594905105\n",
      "Mean squared gyration radius is: 6.168419226666667 ± 2.0520282124742435\n",
      "Universal ratio is: 0.1440070619052564\n",
      "Acceptance rate f =  0.556048\n"
     ]
    }
   ],
   "source": [
    "iterations = 10**6\n",
    "N=15\n",
    "coord = initial_SAW(N)\n",
    "accepted = 0\n",
    "ω_squared, S_squared,f = pivot_run(coord,iterations)\n",
    "mean_ω_squared = np.mean((ω_squared))\n",
    "mean_S_squared = np.mean((S_squared))\n",
    "std_ω_squared = np.std((ω_squared))\n",
    "std_S_squared = np.std((S_squared))\n",
    "ur = mean_S_squared/mean_ω_squared\n",
    "print(f\"Mean squared end-to-end distance is: {mean_ω_squared} ± {std_ω_squared}\")\n",
    "print(f\"Mean squared gyration radius is: {mean_S_squared} ± {std_S_squared}\")\n",
    "print(f\"Universal ratio is: {ur}\")\n",
    "print(f\"Acceptance rate f = \",f)"
   ]
  },
  {
   "cell_type": "code",
   "execution_count": 139,
   "metadata": {},
   "outputs": [
    {
     "name": "stdout",
     "output_type": "stream",
     "text": [
      "4\n"
     ]
    },
    {
     "data": {
      "image/png": "[encoded data removed]",
      "text/plain": [
       "<Figure size 640x480 with 1 Axes>"
      ]
     },
     "metadata": {},
     "output_type": "display_data"
    }
   ],
   "source": [
    "autocor = autocorrelation(ω_squared)\n",
    "plt.plot(autocor[0:100])\n",
    "plt.grid()\n",
    "plt.xlabel(\"Time\")\n",
    "plt.ylabel(\"Autocorrelation\")\n",
    "τ_int = integrated_autocorrelation_time(ω_squared)\n",
    "print((int(np.ceil(τ_int))))"
   ]
  },
  {
   "cell_type": "code",
   "execution_count": 184,
   "metadata": {},
   "outputs": [
    {
     "name": "stderr",
     "output_type": "stream",
     "text": [
      "100%|██████████| 1000000/1000000 [00:47<00:00, 20853.00it/s]\n"
     ]
    },
    {
     "name": "stdout",
     "output_type": "stream",
     "text": [
      "Mean squared end-to-end distance is: 66.819972 ± 41.93055217760929\n",
      "Mean squared gyration radius is: 9.51013457 ± 3.2645001676276424\n",
      "Universal ratio is: 0.14232473144406585\n",
      "Acceptance rate f =  0.529302\n"
     ]
    }
   ],
   "source": [
    "iterations = 10**6\n",
    "N=20\n",
    "coord = initial_SAW(N)\n",
    "ω_squared20, S_squared20,f20 = pivot_run(coord,iterations)\n",
    "mean_ω_squared20 = np.mean((ω_squared20))\n",
    "mean_S_squared20 = np.mean((S_squared20))\n",
    "std_ω_squared20 = np.std((ω_squared20))\n",
    "std_S_squared20 = np.std((S_squared20))\n",
    "ur20 = mean_S_squared20/mean_ω_squared20\n",
    "print(f\"Mean squared end-to-end distance is: {mean_ω_squared20} ± {std_ω_squared20}\")\n",
    "print(f\"Mean squared gyration radius is: {mean_S_squared20} ± {std_S_squared20}\")\n",
    "print(f\"Universal ratio is: {ur20}\")\n",
    "print(f\"Acceptance rate f = \",f20)\n"
   ]
  },
  {
   "cell_type": "code",
   "execution_count": 186,
   "metadata": {},
   "outputs": [
    {
     "name": "stdout",
     "output_type": "stream",
     "text": [
      "Dimerization time: 189.40895771980286\n"
     ]
    },
    {
     "name": "stderr",
     "output_type": "stream",
     "text": [
      "100%|██████████| 1000000/1000000 [26:57<00:00, 618.21it/s]\n"
     ]
    }
   ],
   "source": [
    "iterations = 10**6\n",
    "N=1000\n",
    "start = time.time()\n",
    "coord = initial_SAW(N)\n",
    "end = time.time()\n",
    "print(\"Dimerization time:\", end - start)\n",
    "ω_squared1000, S_squared1000,f1000 = pivot_run(coord,iterations)\n"
   ]
  },
  {
   "cell_type": "code",
   "execution_count": 187,
   "metadata": {},
   "outputs": [
    {
     "name": "stdout",
     "output_type": "stream",
     "text": [
      "Mean squared end-to-end distance is: 24386.923612 ± 16335.893503971825\n",
      "Mean squared gyration radius is: 3413.285966735517  ± 1304.429491696378\n",
      "Universal ratio is: 0.1399637781723297\n",
      "Acceptance rate f =  0.252782\n"
     ]
    }
   ],
   "source": [
    "mean_ω_squared1000 = np.mean((ω_squared1000 ))\n",
    "mean_S_squared1000 = np.mean((S_squared1000 ))\n",
    "std_ω_squared1000  = np.std((ω_squared1000 ))\n",
    "std_S_squared1000  = np.std((S_squared1000 ))\n",
    "ur1000 = mean_S_squared1000 /mean_ω_squared1000 \n",
    "print(f\"Mean squared end-to-end distance is: {mean_ω_squared1000 } ± {std_ω_squared1000 }\")\n",
    "print(f\"Mean squared gyration radius is: {mean_S_squared1000}  ± {std_S_squared1000 }\")\n",
    "print(f\"Universal ratio is: {ur1000 }\")\n",
    "print(f\"Acceptance rate f = \",f1000 )\n"
   ]
  },
  {
   "cell_type": "code",
   "execution_count": 6,
   "metadata": {},
   "outputs": [
    {
     "name": "stdout",
     "output_type": "stream",
     "text": [
      "Broadcasting time: 0.23731660842895508\n",
      "Transposing time: 0.2448711395263672\n",
      "Results match: True\n"
     ]
    }
   ],
   "source": [
    "import numpy as np\n",
    "import time\n",
    "\n",
    "# Create large random arrays\n",
    "n, m = 20000, 20000\n",
    "first = np.random.rand(n)\n",
    "second = np.random.rand(n, m)\n",
    "\n",
    "# Method 1: Broadcasting\n",
    "start = time.time()\n",
    "result1 = second + first[:, np.newaxis]\n",
    "end = time.time()\n",
    "print(\"Broadcasting time:\", end - start)\n",
    "\n",
    "# Method 2: Transposing\n",
    "start = time.time()\n",
    "result2 = (first + second.T).T  # Assuming first is (n, m), otherwise just first\n",
    "end = time.time()\n",
    "print(\"Transposing time:\", end - start)\n",
    "\n",
    "# Verify both methods produce the same result\n",
    "print(\"Results match:\", np.allclose(result1, result2))\n"
   ]
  }
 ],
 "metadata": {
  "kernelspec": {
   "display_name": "Python 3",
   "language": "python",
   "name": "python3"
  },
  "language_info": {
   "codemirror_mode": {
    "name": "ipython",
    "version": 3
   },
   "file_extension": ".py",
   "mimetype": "text/x-python",
   "name": "python",
   "nbconvert_exporter": "python",
   "pygments_lexer": "ipython3",
   "version": "3.12.3"
  }
 },
 "nbformat": 4,
 "nbformat_minor": 2
}
