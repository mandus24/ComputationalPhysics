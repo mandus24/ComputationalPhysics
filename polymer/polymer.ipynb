{
 "cells": [
  {
   "cell_type": "markdown",
   "metadata": {},
   "source": [
    "## Polymer Project: \n",
    "## Implementation of the pivot algorithm to simulate Self-avoiding-random walks\n",
    "\n",
    " Names: Mandus Aldag, Alexandros Mylanos"
   ]
  },
  {
   "cell_type": "code",
   "execution_count": 1,
   "metadata": {},
   "outputs": [],
   "source": [
    "import numpy as np\n",
    "import matplotlib.pyplot as plt\n",
    "from matplotlib.ticker import MultipleLocator\n",
    "import time\n",
    "from tqdm import tqdm\n"
   ]
  },
  {
   "cell_type": "code",
   "execution_count": 36,
   "metadata": {},
   "outputs": [
    {
     "data": {
      "text/plain": [
       "6"
      ]
     },
     "execution_count": 36,
     "metadata": {},
     "output_type": "execute_result"
    }
   ],
   "source": [
    "12//2"
   ]
  },
  {
   "cell_type": "code",
   "execution_count": null,
   "metadata": {},
   "outputs": [],
   "source": [
    "def check_self_avoidance(coords, pivot = None):\n",
    "    # False = Self avoidant\n",
    "    # True = not Self avoidant\n",
    "\n",
    "    if pivot == None:\n",
    "        N = np.size(coords, axis=1)\n",
    "        hashset = set()\n",
    "        for i in range(N):\n",
    "            tmp_tuple = tuple(coords[:,i])\n",
    "            if tmp_tuple in hashset:\n",
    "                return True\n",
    "            else:\n",
    "                hashset.add(tmp_tuple)\n",
    "                \n",
    "        \n",
    "        return False\n",
    "    \n",
    "    else:\n",
    "        N = np.size(coords, axis=1)\n",
    "        if pivot >= N//2:\n",
    "            longer_site= pivot \n",
    "            shorter_site= N-pivot-1\n",
    "            dir = -1\n",
    "        else:\n",
    "            longer_site = N-pivot-1\n",
    "            shorter_site = pivot\n",
    "            dir = 1\n",
    "       \n",
    "        hashset=set()\n",
    "        for i in range(1,longer_site+1):\n",
    "            if i > shorter_site:   # Case when we scan only in the longer direction from the pivot because the short direction was already fully scanned\n",
    "                tmp_tuple = tuple(coords[:,pivot+i*dir])\n",
    "                if tmp_tuple in hashset:\n",
    "                    return True\n",
    "                else:\n",
    "                    hashset.add(tmp_tuple)\n",
    "            else: # Check in both directions of the pivot\n",
    "                tmp_tuple = tuple(coords[:,pivot+i])\n",
    "                if tmp_tuple in hashset:\n",
    "                    return True\n",
    "                else: \n",
    "                    hashset.add(tmp_tuple)\n",
    "                tmp_tuple = tuple(coords[:,pivot-i])\n",
    "                if tmp_tuple in hashset:\n",
    "                    return True\n",
    "                else: \n",
    "                    hashset.add(tmp_tuple)\n",
    "        return False\n",
    "                    "
   ]
  },
  {
   "cell_type": "code",
   "execution_count": 3,
   "metadata": {},
   "outputs": [],
   "source": [
    "def generate_random_walk(L):\n",
    "    coord = np.zeros((2,L),dtype=int)\n",
    "    for l in range(1,L):\n",
    "        direction = np.random.randint(0,4) # clock wise starting from the top\n",
    "        if direction == 0:\n",
    "            coord[0,l] = coord[0,l-1]\n",
    "            coord[1,l] = coord[1,l-1]+1 \n",
    "\n",
    "        elif  direction == 1:\n",
    "            coord[0,l] = coord[0,l-1]+1\n",
    "            coord[1,l] = coord[1,l-1]\n",
    "        \n",
    "        elif  direction == 2:\n",
    "            coord[0,l] = coord[0,l-1]\n",
    "            coord[1,l] = coord[1,l-1]-1\n",
    "\n",
    "        elif  direction == 3:\n",
    "            coord[0,l] = coord[0,l-1]-1\n",
    "            coord[1,l] =  coord[1,l-1]\n",
    "    \n",
    "    return coord\n",
    "        "
   ]
  },
  {
   "cell_type": "code",
   "execution_count": 4,
   "metadata": {},
   "outputs": [],
   "source": [
    "def initial_SAW(N: int): #Dimerisation\n",
    "    if N <= 5:\n",
    "        tmp = True\n",
    "        while tmp:\n",
    "            walk = generate_random_walk(N)\n",
    "            tmp = check_self_avoidance(walk)\n",
    "        return walk\n",
    "\n",
    "\n",
    "\n",
    "    else:\n",
    "        tmp = True\n",
    "        while tmp:\n",
    "            first = initial_SAW(N//2)\n",
    "            second = initial_SAW(N-N//2+1)\n",
    "            translated = (first[:,-1]+second.T).T\n",
    "            concatenated = np.concatenate((first,translated[:,1:]),axis=1)\n",
    "            tmp = check_self_avoidance(concatenated)\n",
    "\n",
    "        return concatenated\n"
   ]
  },
  {
   "cell_type": "code",
   "execution_count": 37,
   "metadata": {},
   "outputs": [],
   "source": [
    "def symmetry_op(coord):\n",
    "    N = np.size(coord,axis=1)\n",
    "    g = np.random.randint(0,7)\n",
    "    if g==0: #+90°(mathematically)\n",
    "        for i in range(N):\n",
    "            coord[:,i] = np.dot(np.array([[0,-1],[1,0]]), coord[:,i])\n",
    "    elif g==1: #-90°(mathematically)\n",
    "        for i in range(N):\n",
    "            coord[:,i] = np.dot(np.array([[0,1],[-1,0]]), coord[:,i])\n",
    "    elif g==2: #180°\n",
    "        for i in range(N):\n",
    "            coord[:,i] = np.dot(np.array([[-1,0],[0,-1]]), coord[:,i])\n",
    "    elif g==3: #x-axis symmetry\n",
    "        for i in range(N):\n",
    "            coord[:,i] = np.dot(np.array([[1,0],[0,-1]]), coord[:,i])\n",
    "    elif g==4: #y-axis symmetry\n",
    "        for i in range(N):\n",
    "            coord[:,i] = np.dot(np.array([[-1,0],[0,1]]), coord[:,i])\n",
    "    elif g==5: #diagonal reflection upperright-bottomleft\n",
    "        for i in range(N):\n",
    "            coord[:,i] = np.dot(np.array([[0,1],[1,0]]), coord[:,i])\n",
    "    elif g==6: #diagonal reflection upperleft-bottomright\n",
    "        for i in range(N):\n",
    "            coord[:,i] = np.dot(np.array([[0,-1],[-1,0]]), coord[:,i])\n",
    "    if debug:\n",
    "        print(\"g = \",g)\n",
    "    return coord\n",
    "    "
   ]
  },
  {
   "cell_type": "code",
   "execution_count": 25,
   "metadata": {},
   "outputs": [],
   "source": [
    "def pivot_step(coord):\n",
    "    global accepted\n",
    "    N = np.size(coord,axis=1)\n",
    "    pivot = np.random.randint(1,N)\n",
    "    if debug:\n",
    "        print(\"pivot = \",pivot)\n",
    "    to_be_operated = coord[:,pivot:]\n",
    "    to_be_operated = (to_be_operated.T-to_be_operated[:,0]).T\n",
    "    operated = symmetry_op(to_be_operated)\n",
    "    operated = (operated.T+coord[:,pivot]).T\n",
    "\n",
    "    coord_new = np.concatenate((coord[:,:pivot],operated),axis=1)\n",
    "    not_selfavoidant = check_self_avoidance(coord_new,pivot)\n",
    "    if not_selfavoidant:\n",
    "        if debug:\n",
    "            print(\"Not selfavoidant\")\n",
    "        return coord\n",
    "    else:\n",
    "        accepted +=1\n",
    "        return coord_new\n"
   ]
  },
  {
   "cell_type": "code",
   "execution_count": 7,
   "metadata": {},
   "outputs": [],
   "source": [
    "def squared_end_to_end(coord):\n",
    "    return np.linalg.norm(coord[:,-1])**2\n",
    "\n",
    "def squared_gyration(coord):\n",
    "    N = np.size(coord,axis=1)\n",
    "    a = (1/N * np.sum(coord,axis=1))\n",
    "    inbracket = np.dot(a,a)\n",
    "    result = 0\n",
    "    for i in range(N):\n",
    "        result += np.dot(coord[:,i], coord[:,i])-inbracket\n",
    "    return 1/N * result"
   ]
  },
  {
   "cell_type": "code",
   "execution_count": 23,
   "metadata": {},
   "outputs": [],
   "source": [
    "def pivot_run(coord,iterations):\n",
    "    global accepted\n",
    "    accepted = 0\n",
    "    ω_squared = []\n",
    "    S_squared = []\n",
    "    for i in tqdm(range(iterations)):\n",
    "        coord = pivot_step(coord)\n",
    "        ω_squared.append(squared_end_to_end(coord))\n",
    "        S_squared.append(squared_gyration(coord))\n",
    "    return ω_squared, S_squared, accepted/iterations"
   ]
  },
  {
   "cell_type": "code",
   "execution_count": null,
   "metadata": {},
   "outputs": [],
   "source": [
    "def autocorrelation(timeseries, mean=None):\n",
    "    timeseries = np.array(timeseries)\n",
    "    if mean is None:\n",
    "        mean = timeseries.mean()\n",
    "    fluctuations = timeseries-mean\n",
    "\n",
    "    C = np.fft.ifft(np.fft.fft(fluctuations) * np.fft.ifft(fluctuations)).real\n",
    "    return C/C[0]\n",
    "\n",
    "def integrated_autocorrelation_time(timeseries, mean=None, until=None):\n",
    "    steps = len(timeseries)\n",
    "    if until is None:\n",
    "        until = steps // 2\n",
    "    Gamma = autocorrelation(timeseries, mean=mean)[:until]\n",
    "    try:\n",
    "        first_zero = np.where(Gamma <= 0)[0][0]\n",
    "        print(\"First zero = \",first_zero)\n",
    "        return 0.5 + Gamma[1:first_zero].sum()\n",
    "    except:\n",
    "        # Gamma never hits 0.  So the autocorrelation spans ~ the whole ensemble.\n",
    "        return steps # at least!"
   ]
  },
  {
   "cell_type": "code",
   "execution_count": 81,
   "metadata": {},
   "outputs": [],
   "source": [
    "def binning_analyis(data,kmax):\n",
    "    M = len(data)\n",
    "    error_est = []\n",
    "    for k in range(1,kmax+1):\n",
    "        M_k = M//k\n",
    "        X_k = np.mean(np.reshape(data[:M_k*k],(-1,k)).T,axis=0)\n",
    "        #print(len(X_k))\n",
    "        error_est.append(np.std(X_k)/np.sqrt(M_k))\n",
    "    τ = 0.5*((error_est[-1]/error_est[0])**2-1)\n",
    "    return error_est, int(np.ceil(τ))"
   ]
  },
  {
   "cell_type": "code",
   "execution_count": 22,
   "metadata": {},
   "outputs": [
    {
     "name": "stdout",
     "output_type": "stream",
     "text": [
      "pivot =  6\n",
      "g =  6\n",
      "45.00000000000001\n"
     ]
    },
    {
     "data": {
      "image/png": "[encoded data removed]",
      "text/plain": [
       "<Figure size 640x480 with 1 Axes>"
      ]
     },
     "metadata": {},
     "output_type": "display_data"
    }
   ],
   "source": [
    "test = initial_SAW(30)\n",
    "debug = 1\n",
    "plt.plot(test[0,:],test[1,:],linewidth=5,label=\"Original\")\n",
    "new = pivot_step(test)\n",
    "print(squared_end_to_end(new))\n",
    "plt.plot(new[0,:],new[1,:],label=\"New\")\n",
    "ax = plt.gca() \n",
    "ax.xaxis.set_major_locator(MultipleLocator(1))  # X ticks every 1 unit\n",
    "ax.yaxis.set_major_locator(MultipleLocator(1))\n",
    "plt.axis(\"equal\")\n",
    "plt.legend()\n",
    "plt.grid()\n",
    "plt.show()"
   ]
  },
  {
   "cell_type": "markdown",
   "metadata": {},
   "source": [
    "# Preliminary Tests"
   ]
  },
  {
   "cell_type": "code",
   "execution_count": null,
   "metadata": {},
   "outputs": [
    {
     "name": "stderr",
     "output_type": "stream",
     "text": [
      "100%|██████████| 10000000/10000000 [06:46<00:00, 24601.48it/s]\n"
     ]
    },
    {
     "name": "stdout",
     "output_type": "stream",
     "text": [
      "Mean squared end-to-end distance is: 47.233436 ± 0.009237335889542378\n",
      "Mean squared gyration radius is: 6.7823586875 ± 0.0007195143428142026\n",
      "Universal ratio is: 0.1435923206497194\n",
      "Acceptance rate f =  0.5809505\n"
     ]
    }
   ],
   "source": [
    "iterations = 10**7\n",
    "N=16\n",
    "coord = initial_SAW(N)\n",
    "accepted = 0\n",
    "debug = 0\n",
    "ω_squared, S_squared,f = pivot_run(coord,iterations)"
   ]
  },
  {
   "cell_type": "markdown",
   "metadata": {},
   "source": [
    "Error analysis and results:"
   ]
  },
  {
   "cell_type": "code",
   "execution_count": 93,
   "metadata": {},
   "outputs": [
    {
     "name": "stdout",
     "output_type": "stream",
     "text": [
      "Mean squared end-to-end distance is: 47.2320528 ± 0.02685095480235442\n",
      "Mean squared gyration radius is: 6.782181590252364 ± 0.0026495696482887795\n",
      "Universal ratio is: 0.14359277626511216\n",
      "Acceptance rate f =  0.5809505\n"
     ]
    }
   ],
   "source": [
    "error_ω_squared,τ_int_bin_ω_squared  = binning_analyis(ω_squared,200)\n",
    "error_S_squared,τ_int_bin_S_squared  = binning_analyis(S_squared,200)\n",
    "uncorrelated_ω_squared = ω_squared[::τ_int_bin_ω_squared]\n",
    "uncorrelated_S_squared = S_squared[::τ_int_bin_S_squared]\n",
    "mean_ω_squared = np.mean(uncorrelated_ω_squared)\n",
    "mean_S_squared = np.mean(uncorrelated_S_squared)\n",
    "ur = mean_S_squared/mean_ω_squared\n",
    "\n",
    "\n",
    "print(f\"Mean squared end-to-end distance is: {mean_ω_squared} ± {error_ω_squared[-1]}\")\n",
    "print(f\"Mean squared gyration radius is: {mean_S_squared} ± {error_S_squared[-1]}\")\n",
    "print(f\"Universal ratio is: {ur}\")\n",
    "print(f\"Acceptance rate f = \",f)"
   ]
  },
  {
   "cell_type": "code",
   "execution_count": null,
   "metadata": {},
   "outputs": [
    {
     "data": {
      "text/plain": [
       "<matplotlib.collections.PathCollection at 0x7dc7c9b18da0>"
      ]
     },
     "execution_count": 92,
     "metadata": {},
     "output_type": "execute_result"
    },
    {
     "data": {
      "image/png": "[encoded data removed]",
      "text/plain": [
       "<Figure size 640x480 with 1 Axes>"
      ]
     },
     "metadata": {},
     "output_type": "display_data"
    }
   ],
   "source": [
    "plt.scatter(range(200),error_S_squared)"
   ]
  },
  {
   "cell_type": "markdown",
   "metadata": {},
   "source": [
    "# N=20"
   ]
  },
  {
   "cell_type": "code",
   "execution_count": null,
   "metadata": {},
   "outputs": [
    {
     "name": "stderr",
     "output_type": "stream",
     "text": [
      "100%|██████████| 10000000/10000000 [08:27<00:00, 19709.15it/s]\n"
     ]
    }
   ],
   "source": [
    "np.random.seed(1234)\n",
    "iterations = 10**7\n",
    "N=21\n",
    "coord = initial_SAW(N)\n",
    "accepted = 0\n",
    "debug = 0\n",
    "ω_squared, S_squared,f = pivot_run(coord,iterations)"
   ]
  },
  {
   "cell_type": "code",
   "execution_count": null,
   "metadata": {},
   "outputs": [
    {
     "name": "stdout",
     "output_type": "stream",
     "text": [
      "Mean squared end-to-end distance is: 72.14754444444445 ± 0.044489705968116515\n",
      "Mean squared gyration radius is: 10.255444260289979 ± 0.004466184412730925\n",
      "Universal ratio is: 0.14214543737087196\n",
      "Acceptance rate f =  0.5488768\n"
     ]
    }
   ],
   "source": [
    "error_ω_squared,τ_int_bin_ω_squared  = binning_analyis(ω_squared,200)\n",
    "error_S_squared,τ_int_bin_S_squared  = binning_analyis(S_squared,200)\n",
    "uncorrelated_ω_squared = ω_squared[::τ_int_bin_ω_squared]\n",
    "uncorrelated_S_squared = S_squared[::τ_int_bin_S_squared]\n",
    "mean_ω_squared = np.mean(uncorrelated_ω_squared)\n",
    "mean_S_squared = np.mean(uncorrelated_S_squared)\n",
    "ur = mean_S_squared/mean_ω_squared\n",
    "\n",
    "\n",
    "print(f\"Mean squared end-to-end distance is: {mean_ω_squared} ± {error_ω_squared[-1]}\")\n",
    "print(f\"Mean squared gyration radius is: {mean_S_squared} ± {error_S_squared[-1]}\")\n",
    "print(f\"Universal ratio is: {ur}\")\n",
    "print(f\"Acceptance rate f = \",f)"
   ]
  },
  {
   "cell_type": "code",
   "execution_count": 120,
   "metadata": {},
   "outputs": [
    {
     "data": {
      "text/plain": [
       "<matplotlib.collections.PathCollection at 0x7dc778d03410>"
      ]
     },
     "execution_count": 120,
     "metadata": {},
     "output_type": "execute_result"
    },
    {
     "data": {
      "image/png": "[encoded data removed]",
      "text/plain": [
       "<Figure size 640x480 with 1 Axes>"
      ]
     },
     "metadata": {},
     "output_type": "display_data"
    }
   ],
   "source": [
    "plt.scatter(range(200),error_S_squared)"
   ]
  },
  {
   "cell_type": "code",
   "execution_count": null,
   "metadata": {},
   "outputs": [
    {
     "name": "stdout",
     "output_type": "stream",
     "text": [
      "Dimerization time: 615.6446738243103\n"
     ]
    },
    {
     "name": "stderr",
     "output_type": "stream",
     "text": [
      "100%|██████████| 1000000/1000000 [27:12<00:00, 612.63it/s]\n"
     ]
    }
   ],
   "source": [
    "np.random.seed(43210)\n",
    "iterations = 10**6\n",
    "N=1001\n",
    "start = time.time()\n",
    "coord = initial_SAW(N)\n",
    "end = time.time()\n",
    "print(\"Dimerization time:\", end - start)\n",
    "ω_squared, S_squared,f = pivot_run(coord,iterations)\n"
   ]
  },
  {
   "cell_type": "code",
   "execution_count": 124,
   "metadata": {},
   "outputs": [
    {
     "name": "stdout",
     "output_type": "stream",
     "text": [
      "Mean squared end-to-end distance is: 24433.16705416473 ± 88.26524734891058\n",
      "Mean squared gyration radius is: 3424.6538098759547 ± 10.090815030068034\n",
      "Universal ratio is: 0.14016413845507633\n",
      "Acceptance rate f =  0.253896\n"
     ]
    }
   ],
   "source": [
    "error_ω_squared,τ_int_bin_ω_squared  = binning_analyis(ω_squared,500)\n",
    "error_S_squared,τ_int_bin_S_squared  = binning_analyis(S_squared,500)\n",
    "uncorrelated_ω_squared = ω_squared[::τ_int_bin_ω_squared]\n",
    "uncorrelated_S_squared = S_squared[::τ_int_bin_S_squared]\n",
    "mean_ω_squared = np.mean(uncorrelated_ω_squared)\n",
    "mean_S_squared = np.mean(uncorrelated_S_squared)\n",
    "ur = mean_S_squared/mean_ω_squared\n",
    "\n",
    "\n",
    "print(f\"Mean squared end-to-end distance is: {mean_ω_squared} ± {error_ω_squared[-1]}\")\n",
    "print(f\"Mean squared gyration radius is: {mean_S_squared} ± {error_S_squared[-1]}\")\n",
    "print(f\"Universal ratio is: {ur}\")\n",
    "print(f\"Acceptance rate f = \",f)"
   ]
  },
  {
   "cell_type": "code",
   "execution_count": null,
   "metadata": {},
   "outputs": [
    {
     "data": {
      "text/plain": [
       "<matplotlib.collections.PathCollection at 0x7dc778c70ec0>"
      ]
     },
     "execution_count": 125,
     "metadata": {},
     "output_type": "execute_result"
    },
    {
     "data": {
      "image/png": "[encoded data removed]",
      "text/plain": [
       "<Figure size 640x480 with 1 Axes>"
      ]
     },
     "metadata": {},
     "output_type": "display_data"
    }
   ],
   "source": [
    "plt.scatter(range(500),error_ω_squared)\n",
    "plt.scatter(range(500),error_S_squared)"
   ]
  }
 ],
 "metadata": {
  "kernelspec": {
   "display_name": "Python 3",
   "language": "python",
   "name": "python3"
  },
  "language_info": {
   "codemirror_mode": {
    "name": "ipython",
    "version": 3
   },
   "file_extension": ".py",
   "mimetype": "text/x-python",
   "name": "python",
   "nbconvert_exporter": "python",
   "pygments_lexer": "ipython3",
   "version": "3.12.3"
  }
 },
 "nbformat": 4,
 "nbformat_minor": 2
}
